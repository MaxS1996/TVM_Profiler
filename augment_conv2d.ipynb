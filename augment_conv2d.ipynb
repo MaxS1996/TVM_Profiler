{
 "cells": [
  {
   "cell_type": "code",
   "execution_count": 1,
   "metadata": {},
   "outputs": [],
   "source": [
    "import json\n",
    "import numpy as np\n",
    "import random"
   ]
  },
  {
   "cell_type": "code",
   "execution_count": 2,
   "metadata": {},
   "outputs": [],
   "source": [
    "def read_data(file_path : str):\n",
    "    with open(input_path, \"r\") as file:\n",
    "        raw = file.read()\n",
    "    data = json.loads(raw)\n",
    "    return data"
   ]
  },
  {
   "cell_type": "code",
   "execution_count": 3,
   "metadata": {},
   "outputs": [],
   "source": [
    "def write_data(file_path : str, data : dict):\n",
    "    raw = json.dumps(data)\n",
    "    with open(output_path, \"w\") as file:\n",
    "        file.write(raw)"
   ]
  },
  {
   "cell_type": "code",
   "execution_count": 7,
   "metadata": {},
   "outputs": [],
   "source": [
    "input_path = \"configs/conv_layer_config_clean.json\""
   ]
  },
  {
   "cell_type": "code",
   "execution_count": 8,
   "metadata": {},
   "outputs": [],
   "source": [
    "output_path = \"configs/depthwise_conv_layer_config_clean.json\"\n",
    "\n",
    "data = read_data(input_path)\n",
    "new_samples = {}\n",
    "for name, sample in data.items():\n",
    "    sample[\"groups\"] = sample[\"input shape\"][3]\n",
    "    sample[\"filters\"] = sample[\"input shape\"][3]\n",
    "    out_shape = sample[\"output shape\"]\n",
    "    out_shape[3] = sample[\"input shape\"][3]\n",
    "    sample[\"input shape\"] = out_shape\n",
    "    new_samples[name+\"_depthwise\"] = sample\n",
    "    \n",
    "    #sample[\"groups\"] = 1\n",
    "write_data(output_path, new_samples)"
   ]
  },
  {
   "cell_type": "code",
   "execution_count": 11,
   "metadata": {},
   "outputs": [],
   "source": [
    "dilation_rate = 2\n",
    "output_path = \"configs/dilated_\"+str(dilation_rate)+\"_conv_layer_config_clean.json\"\n",
    "data = read_data(input_path)\n",
    "new_samples = {}\n",
    "for name, sample in data.items():\n",
    "    sample[\"dilation\"] = [dilation_rate, dilation_rate]\n",
    "    new_samples[name+\"_dilation_rate_\"+str(dilation_rate)] = sample\n",
    "write_data(output_path, new_samples)"
   ]
  },
  {
   "cell_type": "code",
   "execution_count": null,
   "metadata": {},
   "outputs": [],
   "source": []
  }
 ],
 "metadata": {
  "kernelspec": {
   "display_name": "Python 3 (ipykernel)",
   "language": "python",
   "name": "python3"
  },
  "language_info": {
   "codemirror_mode": {
    "name": "ipython",
    "version": 3
   },
   "file_extension": ".py",
   "mimetype": "text/x-python",
   "name": "python",
   "nbconvert_exporter": "python",
   "pygments_lexer": "ipython3",
   "version": "3.6.10"
  }
 },
 "nbformat": 4,
 "nbformat_minor": 4
}
