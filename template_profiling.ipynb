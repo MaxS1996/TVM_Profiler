{
 "cells": [
  {
   "cell_type": "code",
   "execution_count": 1,
   "id": "c7a2e4fe-75de-4bb7-9a05-4e4fb6380145",
   "metadata": {},
   "outputs": [],
   "source": [
    "# IMPORTS from tvm, different required packages and the profiling infrastructure\n",
    "\n",
    "from numpy.core.numeric import full\n",
    "import tvm\n",
    "from tvm.contrib import utils, graph_executor as runtime\n",
    "from tvm.contrib.debugger import debug_executor as graph_runtime\n",
    "from tvm.relay.op.nn.nn import dense, dilate, conv2d\n",
    "#####\n",
    "import numpy as np\n",
    "import pynvml as nv\n",
    "from func_timeout import func_timeout\n",
    "import time\n",
    "import psutil\n",
    "import json\n",
    "#####\n",
    "from components import description_vector as dv\n",
    "from components import serializer\n",
    "from components import profiling"
   ]
  },
  {
   "cell_type": "code",
   "execution_count": 2,
   "id": "fc7af9ec-1f2e-4665-a1b7-a4869a9b5c9e",
   "metadata": {},
   "outputs": [],
   "source": [
    "repeat = 1024"
   ]
  },
  {
   "cell_type": "code",
   "execution_count": 3,
   "id": "e157827d-3f35-4443-9fdd-99bf10a828e0",
   "metadata": {},
   "outputs": [],
   "source": [
    "# helpful to suppress output of debug runtime run function\n",
    "from contextlib import contextmanager\n",
    "import sys, os\n",
    "\n",
    "@contextmanager\n",
    "def suppress_stdout():\n",
    "    with open(os.devnull, \"w\") as devnull:\n",
    "        old_stdout = sys.stdout\n",
    "        sys.stdout = devnull\n",
    "        try:  \n",
    "            yield\n",
    "        finally:\n",
    "            sys.stdout = old_stdout"
   ]
  },
  {
   "cell_type": "code",
   "execution_count": 4,
   "id": "fa6de49b-3b5e-4933-8601-1add8f105543",
   "metadata": {},
   "outputs": [
    {
     "name": "stdout",
     "output_type": "stream",
     "text": [
      "['nvml:::NVIDIA_GeForce_GTX_980_Ti:device_1:power']\n"
     ]
    }
   ],
   "source": [
    "# defining important variables for the profiling system\n",
    "\n",
    "target = \"cuda\"\n",
    "target_class = \"cuda\"\n",
    "\n",
    "device = \"980ti\"\n",
    "dev_idx = 1\n",
    "dev = tvm.device(str(\"cuda\"), dev_idx)\n",
    "time_min_res = 0.2\n",
    "\n",
    "\n",
    "state_path = \"./states\"\n",
    "state_file = \"state\"\n",
    "\n",
    "layer_name = \"conv2d\"\n",
    "\n",
    "metrics = profiling.get_metrics(target, device, backend=\"nvml\", dev_idx=dev_idx)\n",
    "print(metrics)"
   ]
  },
  {
   "cell_type": "code",
   "execution_count": 5,
   "id": "5c6960bd-e847-4012-9935-b7a8a6d94cf8",
   "metadata": {},
   "outputs": [],
   "source": [
    "nv.nvmlInit()\n",
    "handle = nv.nvmlDeviceGetHandleByIndex(0)\n",
    "\n",
    "#metrics.append(\"nvml:::NVIDIA_GeForce_GTX_980_Ti:device_1:pstate\") #unable to read using TVM PAPI Profiler due to limitation to integer data\n",
    "metrics.append(\"nvml:::NVIDIA_GeForce_GTX_980_Ti:device_\"+str(dev_idx)+\":gpu_utilization\")\n",
    "metrics.append(\"nvml:::NVIDIA_GeForce_GTX_980_Ti:device_\"+str(dev_idx)+\":memory_utilization\")\n",
    "metrics.append(\"nvml:::NVIDIA_GeForce_GTX_980_Ti:device_\"+str(dev_idx)+\":graphics_clock\")\n",
    "metrics.append(\"nvml:::NVIDIA_GeForce_GTX_980_Ti:device_\"+str(dev_idx)+\":sm_clock\")\n",
    "metrics.append(\"nvml:::NVIDIA_GeForce_GTX_980_Ti:device_\"+str(dev_idx)+\":memory_clock\")\n",
    "metrics.append(\"nvml:::NVIDIA_GeForce_GTX_980_Ti:device_\"+str(dev_idx)+\":allocated_memory\")"
   ]
  },
  {
   "cell_type": "code",
   "execution_count": 7,
   "id": "841f38e7-0e74-4bd1-a8c1-6f8a6deac46f",
   "metadata": {},
   "outputs": [
    {
     "name": "stdout",
     "output_type": "stream",
     "text": [
      "<class 'dict'>\n",
      "2627\n"
     ]
    }
   ],
   "source": [
    "import json\n",
    "with open('conv_layer_config.json') as file:\n",
    "    configs = json.load(file)\n",
    "    print(type(configs))\n",
    "print(len(configs))"
   ]
  },
  {
   "cell_type": "code",
   "execution_count": null,
   "id": "55f48af4-33a2-4d3e-8238-580e3280d957",
   "metadata": {
    "tags": []
   },
   "outputs": [
    {
     "name": "stdout",
     "output_type": "stream",
     "text": [
      "[None, 149, 149, 32]\n"
     ]
    },
    {
     "name": "stderr",
     "output_type": "stream",
     "text": [
      "[14:54:12] /home/max/tvm/src/runtime/graph_executor/debug/graph_executor_debug.cc:103: Iteration: 0\n",
      "[14:54:12] /home/max/tvm/src/runtime/graph_executor/debug/graph_executor_debug.cc:108: Op #0 tvmgen_default_fused_nn_conv2d: 45.0134 us/iter\n",
      "[14:54:13] /home/max/tvm/src/runtime/graph_executor/debug/graph_executor_debug.cc:103: Iteration: 1\n",
      "[14:54:13] /home/max/tvm/src/runtime/graph_executor/debug/graph_executor_debug.cc:108: Op #0 tvmgen_default_fused_nn_conv2d: 45.2078 us/iter\n",
      "[14:54:14] /home/max/tvm/src/runtime/graph_executor/debug/graph_executor_debug.cc:103: Iteration: 2\n",
      "[14:54:14] /home/max/tvm/src/runtime/graph_executor/debug/graph_executor_debug.cc:108: Op #0 tvmgen_default_fused_nn_conv2d: 45.1694 us/iter\n"
     ]
    },
    {
     "name": "stdout",
     "output_type": "stream",
     "text": [
      "xception:block1_conv1 1 (0.0451694, 172.872, 0.10174560546875)\n"
     ]
    },
    {
     "name": "stderr",
     "output_type": "stream",
     "text": [
      "One or more operators have not been tuned. Please tune your model for better performance. Use DEBUG logging level to see more details.\n",
      "[14:54:25] /home/max/tvm/src/runtime/graph_executor/debug/graph_executor_debug.cc:103: Iteration: 0\n",
      "[14:54:25] /home/max/tvm/src/runtime/graph_executor/debug/graph_executor_debug.cc:108: Op #0 tvmgen_default_fused_nn_conv2d: 2151.07 us/iter\n",
      "[14:54:26] /home/max/tvm/src/runtime/graph_executor/debug/graph_executor_debug.cc:103: Iteration: 1\n",
      "[14:54:26] /home/max/tvm/src/runtime/graph_executor/debug/graph_executor_debug.cc:108: Op #0 tvmgen_default_fused_nn_conv2d: 2151.53 us/iter\n",
      "[14:54:28] /home/max/tvm/src/runtime/graph_executor/debug/graph_executor_debug.cc:103: Iteration: 2\n",
      "[14:54:28] /home/max/tvm/src/runtime/graph_executor/debug/graph_executor_debug.cc:108: Op #0 tvmgen_default_fused_nn_conv2d: 2151.55 us/iter\n"
     ]
    },
    {
     "name": "stdout",
     "output_type": "stream",
     "text": [
      "xception:block1_conv1 8 (2.15155, 183.934, 0.12725830078125)\n"
     ]
    },
    {
     "name": "stderr",
     "output_type": "stream",
     "text": [
      "[14:54:38] /home/max/tvm/src/runtime/graph_executor/debug/graph_executor_debug.cc:103: Iteration: 0\n",
      "[14:54:38] /home/max/tvm/src/runtime/graph_executor/debug/graph_executor_debug.cc:108: Op #0 tvmgen_default_fused_nn_conv2d: 4414.69 us/iter\n",
      "[14:54:39] /home/max/tvm/src/runtime/graph_executor/debug/graph_executor_debug.cc:103: Iteration: 1\n",
      "[14:54:39] /home/max/tvm/src/runtime/graph_executor/debug/graph_executor_debug.cc:108: Op #0 tvmgen_default_fused_nn_conv2d: 4414.31 us/iter\n",
      "[14:54:41] /home/max/tvm/src/runtime/graph_executor/debug/graph_executor_debug.cc:103: Iteration: 2\n",
      "[14:54:41] /home/max/tvm/src/runtime/graph_executor/debug/graph_executor_debug.cc:108: Op #0 tvmgen_default_fused_nn_conv2d: 4414.64 us/iter\n"
     ]
    },
    {
     "name": "stdout",
     "output_type": "stream",
     "text": [
      "xception:block1_conv1 16 (4.41464, 175.1845, 0.15631103515625)\n"
     ]
    },
    {
     "name": "stderr",
     "output_type": "stream",
     "text": [
      "[14:54:52] /home/max/tvm/src/runtime/graph_executor/debug/graph_executor_debug.cc:103: Iteration: 0\n",
      "[14:54:52] /home/max/tvm/src/runtime/graph_executor/debug/graph_executor_debug.cc:108: Op #0 tvmgen_default_fused_nn_conv2d: 8589.55 us/iter\n",
      "[14:54:53] /home/max/tvm/src/runtime/graph_executor/debug/graph_executor_debug.cc:103: Iteration: 1\n",
      "[14:54:53] /home/max/tvm/src/runtime/graph_executor/debug/graph_executor_debug.cc:108: Op #0 tvmgen_default_fused_nn_conv2d: 8587.61 us/iter\n",
      "[14:54:54] /home/max/tvm/src/runtime/graph_executor/debug/graph_executor_debug.cc:103: Iteration: 2\n",
      "[14:54:54] /home/max/tvm/src/runtime/graph_executor/debug/graph_executor_debug.cc:108: Op #0 tvmgen_default_fused_nn_conv2d: 8590.63 us/iter\n"
     ]
    },
    {
     "name": "stdout",
     "output_type": "stream",
     "text": [
      "xception:block1_conv1 32 (8.59063, 178.452, 0.21466064453125)\n"
     ]
    },
    {
     "name": "stderr",
     "output_type": "stream",
     "text": [
      "[14:55:05] /home/max/tvm/src/runtime/graph_executor/debug/graph_executor_debug.cc:103: Iteration: 0\n",
      "[14:55:05] /home/max/tvm/src/runtime/graph_executor/debug/graph_executor_debug.cc:108: Op #0 tvmgen_default_fused_nn_conv2d: 17705.3 us/iter\n",
      "[14:55:07] /home/max/tvm/src/runtime/graph_executor/debug/graph_executor_debug.cc:103: Iteration: 1\n",
      "[14:55:07] /home/max/tvm/src/runtime/graph_executor/debug/graph_executor_debug.cc:108: Op #0 tvmgen_default_fused_nn_conv2d: 17707.7 us/iter\n",
      "[14:55:08] /home/max/tvm/src/runtime/graph_executor/debug/graph_executor_debug.cc:103: Iteration: 2\n",
      "[14:55:08] /home/max/tvm/src/runtime/graph_executor/debug/graph_executor_debug.cc:108: Op #0 tvmgen_default_fused_nn_conv2d: 17705.1 us/iter\n"
     ]
    },
    {
     "name": "stdout",
     "output_type": "stream",
     "text": [
      "xception:block1_conv1 64 (17.7051, 174.129, 0.33135986328125)\n"
     ]
    },
    {
     "name": "stderr",
     "output_type": "stream",
     "text": [
      "[14:55:20] /home/max/tvm/src/runtime/graph_executor/debug/graph_executor_debug.cc:103: Iteration: 0\n",
      "[14:55:20] /home/max/tvm/src/runtime/graph_executor/debug/graph_executor_debug.cc:108: Op #0 tvmgen_default_fused_nn_conv2d: 34296.4 us/iter\n",
      "[14:55:22] /home/max/tvm/src/runtime/graph_executor/debug/graph_executor_debug.cc:103: Iteration: 1\n",
      "[14:55:22] /home/max/tvm/src/runtime/graph_executor/debug/graph_executor_debug.cc:108: Op #0 tvmgen_default_fused_nn_conv2d: 34290.1 us/iter\n",
      "[14:55:23] /home/max/tvm/src/runtime/graph_executor/debug/graph_executor_debug.cc:103: Iteration: 2\n",
      "[14:55:23] /home/max/tvm/src/runtime/graph_executor/debug/graph_executor_debug.cc:108: Op #0 tvmgen_default_fused_nn_conv2d: 34293.3 us/iter\n"
     ]
    },
    {
     "name": "stdout",
     "output_type": "stream",
     "text": [
      "xception:block1_conv1 128 (34.2933, 177.352, 0.56475830078125)\n",
      "[None, 147, 147, 64]\n"
     ]
    },
    {
     "name": "stderr",
     "output_type": "stream",
     "text": [
      "[14:55:36] /home/max/tvm/src/runtime/graph_executor/debug/graph_executor_debug.cc:103: Iteration: 0\n",
      "[14:55:36] /home/max/tvm/src/runtime/graph_executor/debug/graph_executor_debug.cc:108: Op #0 tvmgen_default_fused_nn_conv2d: 756.74 us/iter\n",
      "[14:55:37] /home/max/tvm/src/runtime/graph_executor/debug/graph_executor_debug.cc:103: Iteration: 1\n",
      "[14:55:37] /home/max/tvm/src/runtime/graph_executor/debug/graph_executor_debug.cc:108: Op #0 tvmgen_default_fused_nn_conv2d: 756.76 us/iter\n",
      "[14:55:39] /home/max/tvm/src/runtime/graph_executor/debug/graph_executor_debug.cc:103: Iteration: 2\n",
      "[14:55:39] /home/max/tvm/src/runtime/graph_executor/debug/graph_executor_debug.cc:108: Op #0 tvmgen_default_fused_nn_conv2d: 756.973 us/iter\n"
     ]
    },
    {
     "name": "stdout",
     "output_type": "stream",
     "text": [
      "xception:block1_conv2 1 (0.756973, 193.178, 0.10589599609375)\n"
     ]
    },
    {
     "name": "stderr",
     "output_type": "stream",
     "text": [
      "[14:55:49] /home/max/tvm/src/runtime/graph_executor/debug/graph_executor_debug.cc:103: Iteration: 0\n",
      "[14:55:49] /home/max/tvm/src/runtime/graph_executor/debug/graph_executor_debug.cc:108: Op #0 tvmgen_default_fused_nn_conv2d: 5844.22 us/iter\n",
      "[14:55:50] /home/max/tvm/src/runtime/graph_executor/debug/graph_executor_debug.cc:103: Iteration: 1\n",
      "[14:55:50] /home/max/tvm/src/runtime/graph_executor/debug/graph_executor_debug.cc:108: Op #0 tvmgen_default_fused_nn_conv2d: 5845.06 us/iter\n",
      "[14:55:52] /home/max/tvm/src/runtime/graph_executor/debug/graph_executor_debug.cc:103: Iteration: 2\n",
      "[14:55:52] /home/max/tvm/src/runtime/graph_executor/debug/graph_executor_debug.cc:108: Op #0 tvmgen_default_fused_nn_conv2d: 5845.31 us/iter\n"
     ]
    },
    {
     "name": "stdout",
     "output_type": "stream",
     "text": [
      "xception:block1_conv2 8 (5.8453100000000004, 200.912, 0.16046142578125)\n"
     ]
    },
    {
     "name": "stderr",
     "output_type": "stream",
     "text": [
      "[14:56:03] /home/max/tvm/src/runtime/graph_executor/debug/graph_executor_debug.cc:103: Iteration: 0\n",
      "[14:56:03] /home/max/tvm/src/runtime/graph_executor/debug/graph_executor_debug.cc:108: Op #0 tvmgen_default_fused_nn_conv2d: 11686.2 us/iter\n",
      "[14:56:04] /home/max/tvm/src/runtime/graph_executor/debug/graph_executor_debug.cc:103: Iteration: 1\n",
      "[14:56:04] /home/max/tvm/src/runtime/graph_executor/debug/graph_executor_debug.cc:108: Op #0 tvmgen_default_fused_nn_conv2d: 11684.8 us/iter\n",
      "[14:56:06] /home/max/tvm/src/runtime/graph_executor/debug/graph_executor_debug.cc:103: Iteration: 2\n",
      "[14:56:06] /home/max/tvm/src/runtime/graph_executor/debug/graph_executor_debug.cc:108: Op #0 tvmgen_default_fused_nn_conv2d: 11686.7 us/iter\n"
     ]
    },
    {
     "name": "stdout",
     "output_type": "stream",
     "text": [
      "xception:block1_conv2 16 (11.6867, 200.14749999999998, 0.22283935546875)\n"
     ]
    },
    {
     "name": "stderr",
     "output_type": "stream",
     "text": [
      "[14:56:17] /home/max/tvm/src/runtime/graph_executor/debug/graph_executor_debug.cc:103: Iteration: 0\n",
      "[14:56:17] /home/max/tvm/src/runtime/graph_executor/debug/graph_executor_debug.cc:108: Op #0 tvmgen_default_fused_nn_conv2d: 23371.7 us/iter\n",
      "[14:56:18] /home/max/tvm/src/runtime/graph_executor/debug/graph_executor_debug.cc:103: Iteration: 1\n",
      "[14:56:18] /home/max/tvm/src/runtime/graph_executor/debug/graph_executor_debug.cc:108: Op #0 tvmgen_default_fused_nn_conv2d: 23370.6 us/iter\n",
      "[14:56:20] /home/max/tvm/src/runtime/graph_executor/debug/graph_executor_debug.cc:103: Iteration: 2\n",
      "[14:56:20] /home/max/tvm/src/runtime/graph_executor/debug/graph_executor_debug.cc:108: Op #0 tvmgen_default_fused_nn_conv2d: 23369.5 us/iter\n"
     ]
    },
    {
     "name": "stdout",
     "output_type": "stream",
     "text": [
      "xception:block1_conv2 32 (23.369500000000002, 200.755, 0.34759521484375)\n"
     ]
    },
    {
     "name": "stderr",
     "output_type": "stream",
     "text": [
      "[14:56:32] /home/max/tvm/src/runtime/graph_executor/debug/graph_executor_debug.cc:103: Iteration: 0\n",
      "[14:56:32] /home/max/tvm/src/runtime/graph_executor/debug/graph_executor_debug.cc:108: Op #0 tvmgen_default_fused_nn_conv2d: 46714.8 us/iter\n",
      "[14:56:34] /home/max/tvm/src/runtime/graph_executor/debug/graph_executor_debug.cc:103: Iteration: 1\n",
      "[14:56:34] /home/max/tvm/src/runtime/graph_executor/debug/graph_executor_debug.cc:108: Op #0 tvmgen_default_fused_nn_conv2d: 46716.1 us/iter\n",
      "[14:56:35] /home/max/tvm/src/runtime/graph_executor/debug/graph_executor_debug.cc:103: Iteration: 2\n",
      "[14:56:35] /home/max/tvm/src/runtime/graph_executor/debug/graph_executor_debug.cc:108: Op #0 tvmgen_default_fused_nn_conv2d: 46716.3 us/iter\n"
     ]
    },
    {
     "name": "stdout",
     "output_type": "stream",
     "text": [
      "xception:block1_conv2 64 (46.716300000000004, 201.601, 0.59722900390625)\n"
     ]
    },
    {
     "name": "stderr",
     "output_type": "stream",
     "text": [
      "[14:56:47] /home/max/tvm/src/runtime/graph_executor/debug/graph_executor_debug.cc:103: Iteration: 0\n",
      "[14:56:47] /home/max/tvm/src/runtime/graph_executor/debug/graph_executor_debug.cc:108: Op #0 tvmgen_default_fused_nn_conv2d: 93380.5 us/iter\n",
      "[14:56:50] /home/max/tvm/src/runtime/graph_executor/debug/graph_executor_debug.cc:103: Iteration: 1\n",
      "[14:56:50] /home/max/tvm/src/runtime/graph_executor/debug/graph_executor_debug.cc:108: Op #0 tvmgen_default_fused_nn_conv2d: 93398.9 us/iter\n",
      "[14:56:51] /home/max/tvm/src/runtime/graph_executor/debug/graph_executor_debug.cc:103: Iteration: 2\n",
      "[14:56:51] /home/max/tvm/src/runtime/graph_executor/debug/graph_executor_debug.cc:108: Op #0 tvmgen_default_fused_nn_conv2d: 93397.6 us/iter\n"
     ]
    },
    {
     "name": "stdout",
     "output_type": "stream",
     "text": [
      "xception:block1_conv2 128 (93.3976, 203.5725, 1.09637451171875)\n",
      "[None, 74, 74, 128]\n"
     ]
    },
    {
     "name": "stderr",
     "output_type": "stream",
     "text": [
      "[14:57:10] /home/max/tvm/src/runtime/graph_executor/debug/graph_executor_debug.cc:103: Iteration: 0\n",
      "[14:57:10] /home/max/tvm/src/runtime/graph_executor/debug/graph_executor_debug.cc:108: Op #0 tvmgen_default_fused_nn_conv2d: 261.533 us/iter\n",
      "[14:57:11] /home/max/tvm/src/runtime/graph_executor/debug/graph_executor_debug.cc:103: Iteration: 1\n",
      "[14:57:11] /home/max/tvm/src/runtime/graph_executor/debug/graph_executor_debug.cc:108: Op #0 tvmgen_default_fused_nn_conv2d: 261.704 us/iter\n",
      "[14:57:13] /home/max/tvm/src/runtime/graph_executor/debug/graph_executor_debug.cc:103: Iteration: 2\n",
      "[14:57:13] /home/max/tvm/src/runtime/graph_executor/debug/graph_executor_debug.cc:108: Op #0 tvmgen_default_fused_nn_conv2d: 261.644 us/iter\n"
     ]
    },
    {
     "name": "stdout",
     "output_type": "stream",
     "text": [
      "xception:conv2d 1 (0.261644, 167.404, 0.10589599609375)\n"
     ]
    },
    {
     "name": "stderr",
     "output_type": "stream",
     "text": [
      "[14:57:24] /home/max/tvm/src/runtime/graph_executor/debug/graph_executor_debug.cc:103: Iteration: 0\n",
      "[14:57:24] /home/max/tvm/src/runtime/graph_executor/debug/graph_executor_debug.cc:108: Op #0 tvmgen_default_fused_nn_conv2d: 1878.78 us/iter\n",
      "[14:57:25] /home/max/tvm/src/runtime/graph_executor/debug/graph_executor_debug.cc:103: Iteration: 1\n",
      "[14:57:25] /home/max/tvm/src/runtime/graph_executor/debug/graph_executor_debug.cc:108: Op #0 tvmgen_default_fused_nn_conv2d: 1879.15 us/iter\n",
      "[14:57:27] /home/max/tvm/src/runtime/graph_executor/debug/graph_executor_debug.cc:103: Iteration: 2\n",
      "[14:57:27] /home/max/tvm/src/runtime/graph_executor/debug/graph_executor_debug.cc:108: Op #0 tvmgen_default_fused_nn_conv2d: 1878.9 us/iter\n"
     ]
    },
    {
     "name": "stdout",
     "output_type": "stream",
     "text": [
      "xception:conv2d 8 (1.8789, 178.467, 0.16021728515625)\n"
     ]
    },
    {
     "name": "stderr",
     "output_type": "stream",
     "text": [
      "[14:57:39] /home/max/tvm/src/runtime/graph_executor/debug/graph_executor_debug.cc:103: Iteration: 0\n",
      "[14:57:39] /home/max/tvm/src/runtime/graph_executor/debug/graph_executor_debug.cc:108: Op #0 tvmgen_default_fused_nn_conv2d: 3734.05 us/iter\n",
      "[14:57:40] /home/max/tvm/src/runtime/graph_executor/debug/graph_executor_debug.cc:103: Iteration: 1\n",
      "[14:57:40] /home/max/tvm/src/runtime/graph_executor/debug/graph_executor_debug.cc:108: Op #0 tvmgen_default_fused_nn_conv2d: 3734.48 us/iter\n",
      "[14:57:42] /home/max/tvm/src/runtime/graph_executor/debug/graph_executor_debug.cc:103: Iteration: 2\n",
      "[14:57:42] /home/max/tvm/src/runtime/graph_executor/debug/graph_executor_debug.cc:108: Op #0 tvmgen_default_fused_nn_conv2d: 3734.94 us/iter\n"
     ]
    },
    {
     "name": "stdout",
     "output_type": "stream",
     "text": [
      "xception:conv2d 16 (3.73494, 178.127, 0.22235107421875)\n"
     ]
    },
    {
     "name": "stderr",
     "output_type": "stream",
     "text": [
      "[14:57:54] /home/max/tvm/src/runtime/graph_executor/debug/graph_executor_debug.cc:103: Iteration: 0\n",
      "[14:57:54] /home/max/tvm/src/runtime/graph_executor/debug/graph_executor_debug.cc:108: Op #0 tvmgen_default_fused_nn_conv2d: 7448.61 us/iter\n",
      "[14:57:55] /home/max/tvm/src/runtime/graph_executor/debug/graph_executor_debug.cc:103: Iteration: 1\n",
      "[14:57:55] /home/max/tvm/src/runtime/graph_executor/debug/graph_executor_debug.cc:108: Op #0 tvmgen_default_fused_nn_conv2d: 7449.42 us/iter\n",
      "[14:57:57] /home/max/tvm/src/runtime/graph_executor/debug/graph_executor_debug.cc:103: Iteration: 2\n",
      "[14:57:57] /home/max/tvm/src/runtime/graph_executor/debug/graph_executor_debug.cc:108: Op #0 tvmgen_default_fused_nn_conv2d: 7449.83 us/iter\n"
     ]
    },
    {
     "name": "stdout",
     "output_type": "stream",
     "text": [
      "xception:conv2d 32 (7.44983, 176.451, 0.34649658203125)\n"
     ]
    },
    {
     "name": "stderr",
     "output_type": "stream",
     "text": [
      "[14:58:10] /home/max/tvm/src/runtime/graph_executor/debug/graph_executor_debug.cc:103: Iteration: 0\n",
      "[14:58:10] /home/max/tvm/src/runtime/graph_executor/debug/graph_executor_debug.cc:108: Op #0 tvmgen_default_fused_nn_conv2d: 14785.9 us/iter\n",
      "[14:58:12] /home/max/tvm/src/runtime/graph_executor/debug/graph_executor_debug.cc:103: Iteration: 1\n",
      "[14:58:12] /home/max/tvm/src/runtime/graph_executor/debug/graph_executor_debug.cc:108: Op #0 tvmgen_default_fused_nn_conv2d: 14788.2 us/iter\n",
      "[14:58:13] /home/max/tvm/src/runtime/graph_executor/debug/graph_executor_debug.cc:103: Iteration: 2\n",
      "[14:58:13] /home/max/tvm/src/runtime/graph_executor/debug/graph_executor_debug.cc:108: Op #0 tvmgen_default_fused_nn_conv2d: 14788.5 us/iter\n"
     ]
    },
    {
     "name": "stdout",
     "output_type": "stream",
     "text": [
      "xception:conv2d 64 (14.788499999999999, 183.12, 0.59490966796875)\n"
     ]
    },
    {
     "name": "stderr",
     "output_type": "stream",
     "text": [
      "[14:58:29] /home/max/tvm/src/runtime/graph_executor/debug/graph_executor_debug.cc:103: Iteration: 0\n",
      "[14:58:29] /home/max/tvm/src/runtime/graph_executor/debug/graph_executor_debug.cc:108: Op #0 tvmgen_default_fused_nn_conv2d: 29558.3 us/iter\n",
      "[14:58:30] /home/max/tvm/src/runtime/graph_executor/debug/graph_executor_debug.cc:103: Iteration: 1\n",
      "[14:58:30] /home/max/tvm/src/runtime/graph_executor/debug/graph_executor_debug.cc:108: Op #0 tvmgen_default_fused_nn_conv2d: 29561.5 us/iter\n",
      "[14:58:32] /home/max/tvm/src/runtime/graph_executor/debug/graph_executor_debug.cc:103: Iteration: 2\n",
      "[14:58:32] /home/max/tvm/src/runtime/graph_executor/debug/graph_executor_debug.cc:108: Op #0 tvmgen_default_fused_nn_conv2d: 29564.2 us/iter\n"
     ]
    },
    {
     "name": "stdout",
     "output_type": "stream",
     "text": [
      "xception:conv2d 128 (29.5642, 186.313, 1.09173583984375)\n",
      "[None, 37, 37, 256]\n"
     ]
    },
    {
     "name": "stderr",
     "output_type": "stream",
     "text": [
      "[14:58:49] /home/max/tvm/src/runtime/graph_executor/debug/graph_executor_debug.cc:103: Iteration: 0\n",
      "[14:58:49] /home/max/tvm/src/runtime/graph_executor/debug/graph_executor_debug.cc:108: Op #0 tvmgen_default_fused_nn_conv2d: 901.185 us/iter\n",
      "[14:58:50] /home/max/tvm/src/runtime/graph_executor/debug/graph_executor_debug.cc:103: Iteration: 1\n",
      "[14:58:50] /home/max/tvm/src/runtime/graph_executor/debug/graph_executor_debug.cc:108: Op #0 tvmgen_default_fused_nn_conv2d: 900.946 us/iter\n",
      "[14:58:52] /home/max/tvm/src/runtime/graph_executor/debug/graph_executor_debug.cc:103: Iteration: 2\n",
      "[14:58:52] /home/max/tvm/src/runtime/graph_executor/debug/graph_executor_debug.cc:108: Op #0 tvmgen_default_fused_nn_conv2d: 901.015 us/iter\n"
     ]
    },
    {
     "name": "stdout",
     "output_type": "stream",
     "text": [
      "xception:conv2d_1 1 (0.901015, 147.364, 0.10198974609375)\n"
     ]
    },
    {
     "name": "stderr",
     "output_type": "stream",
     "text": [
      "[14:59:02] /home/max/tvm/src/runtime/graph_executor/debug/graph_executor_debug.cc:103: Iteration: 0\n",
      "[14:59:02] /home/max/tvm/src/runtime/graph_executor/debug/graph_executor_debug.cc:108: Op #0 tvmgen_default_fused_nn_conv2d: 7090.55 us/iter\n",
      "[14:59:03] /home/max/tvm/src/runtime/graph_executor/debug/graph_executor_debug.cc:103: Iteration: 1\n",
      "[14:59:03] /home/max/tvm/src/runtime/graph_executor/debug/graph_executor_debug.cc:108: Op #0 tvmgen_default_fused_nn_conv2d: 7090.57 us/iter\n",
      "[14:59:05] /home/max/tvm/src/runtime/graph_executor/debug/graph_executor_debug.cc:103: Iteration: 2\n",
      "[14:59:05] /home/max/tvm/src/runtime/graph_executor/debug/graph_executor_debug.cc:108: Op #0 tvmgen_default_fused_nn_conv2d: 7091.14 us/iter\n"
     ]
    },
    {
     "name": "stdout",
     "output_type": "stream",
     "text": [
      "xception:conv2d_1 8 (7.09114, 155.469, 0.12945556640625)\n"
     ]
    },
    {
     "name": "stderr",
     "output_type": "stream",
     "text": [
      "[14:59:16] /home/max/tvm/src/runtime/graph_executor/debug/graph_executor_debug.cc:103: Iteration: 0\n",
      "[14:59:16] /home/max/tvm/src/runtime/graph_executor/debug/graph_executor_debug.cc:108: Op #0 tvmgen_default_fused_nn_conv2d: 14172 us/iter\n",
      "[14:59:17] /home/max/tvm/src/runtime/graph_executor/debug/graph_executor_debug.cc:103: Iteration: 1\n",
      "[14:59:17] /home/max/tvm/src/runtime/graph_executor/debug/graph_executor_debug.cc:108: Op #0 tvmgen_default_fused_nn_conv2d: 14172.6 us/iter\n",
      "[14:59:19] /home/max/tvm/src/runtime/graph_executor/debug/graph_executor_debug.cc:103: Iteration: 2\n",
      "[14:59:19] /home/max/tvm/src/runtime/graph_executor/debug/graph_executor_debug.cc:108: Op #0 tvmgen_default_fused_nn_conv2d: 14171.2 us/iter\n"
     ]
    },
    {
     "name": "stdout",
     "output_type": "stream",
     "text": [
      "xception:conv2d_1 16 (14.1712, 155.953, 0.16082763671875)\n"
     ]
    },
    {
     "name": "stderr",
     "output_type": "stream",
     "text": [
      "[14:59:30] /home/max/tvm/src/runtime/graph_executor/debug/graph_executor_debug.cc:103: Iteration: 0\n",
      "[14:59:30] /home/max/tvm/src/runtime/graph_executor/debug/graph_executor_debug.cc:108: Op #0 tvmgen_default_fused_nn_conv2d: 28343.7 us/iter\n",
      "[14:59:32] /home/max/tvm/src/runtime/graph_executor/debug/graph_executor_debug.cc:103: Iteration: 1\n",
      "[14:59:32] /home/max/tvm/src/runtime/graph_executor/debug/graph_executor_debug.cc:108: Op #0 tvmgen_default_fused_nn_conv2d: 28347.4 us/iter\n",
      "[14:59:33] /home/max/tvm/src/runtime/graph_executor/debug/graph_executor_debug.cc:103: Iteration: 2\n",
      "[14:59:33] /home/max/tvm/src/runtime/graph_executor/debug/graph_executor_debug.cc:108: Op #0 tvmgen_default_fused_nn_conv2d: 28346.9 us/iter\n"
     ]
    },
    {
     "name": "stdout",
     "output_type": "stream",
     "text": [
      "xception:conv2d_1 32 (28.3469, 157.559, 0.22344970703125)\n"
     ]
    },
    {
     "name": "stderr",
     "output_type": "stream",
     "text": [
      "[14:59:46] /home/max/tvm/src/runtime/graph_executor/debug/graph_executor_debug.cc:103: Iteration: 0\n",
      "[14:59:46] /home/max/tvm/src/runtime/graph_executor/debug/graph_executor_debug.cc:108: Op #0 tvmgen_default_fused_nn_conv2d: 56682.4 us/iter\n",
      "[14:59:48] /home/max/tvm/src/runtime/graph_executor/debug/graph_executor_debug.cc:103: Iteration: 1\n",
      "[14:59:48] /home/max/tvm/src/runtime/graph_executor/debug/graph_executor_debug.cc:108: Op #0 tvmgen_default_fused_nn_conv2d: 56676.1 us/iter\n",
      "[14:59:50] /home/max/tvm/src/runtime/graph_executor/debug/graph_executor_debug.cc:103: Iteration: 2\n",
      "[14:59:50] /home/max/tvm/src/runtime/graph_executor/debug/graph_executor_debug.cc:108: Op #0 tvmgen_default_fused_nn_conv2d: 56681.9 us/iter\n"
     ]
    },
    {
     "name": "stdout",
     "output_type": "stream",
     "text": [
      "xception:conv2d_1 64 (56.6819, 158.514, 0.34869384765625)\n"
     ]
    },
    {
     "name": "stderr",
     "output_type": "stream",
     "text": [
      "[15:00:02] /home/max/tvm/src/runtime/graph_executor/debug/graph_executor_debug.cc:103: Iteration: 0\n",
      "[15:00:02] /home/max/tvm/src/runtime/graph_executor/debug/graph_executor_debug.cc:108: Op #0 tvmgen_default_fused_nn_conv2d: 113351 us/iter\n",
      "[15:00:04] /home/max/tvm/src/runtime/graph_executor/debug/graph_executor_debug.cc:103: Iteration: 1\n",
      "[15:00:04] /home/max/tvm/src/runtime/graph_executor/debug/graph_executor_debug.cc:108: Op #0 tvmgen_default_fused_nn_conv2d: 113352 us/iter\n",
      "[15:00:05] /home/max/tvm/src/runtime/graph_executor/debug/graph_executor_debug.cc:103: Iteration: 2\n",
      "[15:00:05] /home/max/tvm/src/runtime/graph_executor/debug/graph_executor_debug.cc:108: Op #0 tvmgen_default_fused_nn_conv2d: 113355 us/iter\n"
     ]
    },
    {
     "name": "stdout",
     "output_type": "stream",
     "text": [
      "xception:conv2d_1 128 (113.355, 160.317, 0.59930419921875)\n",
      "[None, 19, 19, 728]\n"
     ]
    },
    {
     "name": "stderr",
     "output_type": "stream",
     "text": [
      "[15:00:22] /home/max/tvm/src/runtime/graph_executor/debug/graph_executor_debug.cc:103: Iteration: 0\n",
      "[15:00:22] /home/max/tvm/src/runtime/graph_executor/debug/graph_executor_debug.cc:108: Op #0 tvmgen_default_fused_nn_conv2d: 1310.89 us/iter\n",
      "[15:00:23] /home/max/tvm/src/runtime/graph_executor/debug/graph_executor_debug.cc:103: Iteration: 1\n",
      "[15:00:23] /home/max/tvm/src/runtime/graph_executor/debug/graph_executor_debug.cc:108: Op #0 tvmgen_default_fused_nn_conv2d: 1339.22 us/iter\n",
      "[15:00:25] /home/max/tvm/src/runtime/graph_executor/debug/graph_executor_debug.cc:103: Iteration: 2\n",
      "[15:00:25] /home/max/tvm/src/runtime/graph_executor/debug/graph_executor_debug.cc:108: Op #0 tvmgen_default_fused_nn_conv2d: 1313.81 us/iter\n"
     ]
    },
    {
     "name": "stdout",
     "output_type": "stream",
     "text": [
      "xception:conv2d_2 1 (1.3138100000000001, 153.952, 0.10040283203125)\n"
     ]
    },
    {
     "name": "stderr",
     "output_type": "stream",
     "text": [
      "[15:00:35] /home/max/tvm/src/runtime/graph_executor/debug/graph_executor_debug.cc:103: Iteration: 0\n",
      "[15:00:35] /home/max/tvm/src/runtime/graph_executor/debug/graph_executor_debug.cc:108: Op #0 tvmgen_default_fused_nn_conv2d: 10026.2 us/iter\n",
      "[15:00:37] /home/max/tvm/src/runtime/graph_executor/debug/graph_executor_debug.cc:103: Iteration: 1\n",
      "[15:00:37] /home/max/tvm/src/runtime/graph_executor/debug/graph_executor_debug.cc:108: Op #0 tvmgen_default_fused_nn_conv2d: 10025.5 us/iter\n",
      "[15:00:38] /home/max/tvm/src/runtime/graph_executor/debug/graph_executor_debug.cc:103: Iteration: 2\n",
      "[15:00:38] /home/max/tvm/src/runtime/graph_executor/debug/graph_executor_debug.cc:108: Op #0 tvmgen_default_fused_nn_conv2d: 10026.7 us/iter\n"
     ]
    },
    {
     "name": "stdout",
     "output_type": "stream",
     "text": [
      "xception:conv2d_2 8 (10.0267, 154.132, 0.11639404296875)\n"
     ]
    },
    {
     "name": "stderr",
     "output_type": "stream",
     "text": [
      "[15:00:49] /home/max/tvm/src/runtime/graph_executor/debug/graph_executor_debug.cc:103: Iteration: 0\n",
      "[15:00:49] /home/max/tvm/src/runtime/graph_executor/debug/graph_executor_debug.cc:108: Op #0 tvmgen_default_fused_nn_conv2d: 20114.9 us/iter\n",
      "[15:00:51] /home/max/tvm/src/runtime/graph_executor/debug/graph_executor_debug.cc:103: Iteration: 1\n",
      "[15:00:51] /home/max/tvm/src/runtime/graph_executor/debug/graph_executor_debug.cc:108: Op #0 tvmgen_default_fused_nn_conv2d: 20119.4 us/iter\n",
      "[15:00:52] /home/max/tvm/src/runtime/graph_executor/debug/graph_executor_debug.cc:103: Iteration: 2\n",
      "[15:00:52] /home/max/tvm/src/runtime/graph_executor/debug/graph_executor_debug.cc:108: Op #0 tvmgen_default_fused_nn_conv2d: 20128.2 us/iter\n"
     ]
    },
    {
     "name": "stdout",
     "output_type": "stream",
     "text": [
      "xception:conv2d_2 16 (20.1282, 156.812, 0.13470458984375)\n"
     ]
    },
    {
     "name": "stderr",
     "output_type": "stream",
     "text": [
      "[15:01:04] /home/max/tvm/src/runtime/graph_executor/debug/graph_executor_debug.cc:103: Iteration: 0\n",
      "[15:01:04] /home/max/tvm/src/runtime/graph_executor/debug/graph_executor_debug.cc:108: Op #0 tvmgen_default_fused_nn_conv2d: 40187.6 us/iter\n",
      "[15:01:05] /home/max/tvm/src/runtime/graph_executor/debug/graph_executor_debug.cc:103: Iteration: 1\n",
      "[15:01:05] /home/max/tvm/src/runtime/graph_executor/debug/graph_executor_debug.cc:108: Op #0 tvmgen_default_fused_nn_conv2d: 40187.1 us/iter\n",
      "[15:01:07] /home/max/tvm/src/runtime/graph_executor/debug/graph_executor_debug.cc:103: Iteration: 2\n",
      "[15:01:07] /home/max/tvm/src/runtime/graph_executor/debug/graph_executor_debug.cc:108: Op #0 tvmgen_default_fused_nn_conv2d: 40188 us/iter\n"
     ]
    },
    {
     "name": "stdout",
     "output_type": "stream",
     "text": [
      "xception:conv2d_2 32 (40.188, 158.598, 0.17120361328125)\n"
     ]
    },
    {
     "name": "stderr",
     "output_type": "stream",
     "text": [
      "[15:01:19] /home/max/tvm/src/runtime/graph_executor/debug/graph_executor_debug.cc:103: Iteration: 0\n",
      "[15:01:19] /home/max/tvm/src/runtime/graph_executor/debug/graph_executor_debug.cc:108: Op #0 tvmgen_default_fused_nn_conv2d: 80404.6 us/iter\n",
      "[15:01:20] /home/max/tvm/src/runtime/graph_executor/debug/graph_executor_debug.cc:103: Iteration: 1\n",
      "[15:01:20] /home/max/tvm/src/runtime/graph_executor/debug/graph_executor_debug.cc:108: Op #0 tvmgen_default_fused_nn_conv2d: 80416.3 us/iter\n",
      "[15:01:21] /home/max/tvm/src/runtime/graph_executor/debug/graph_executor_debug.cc:103: Iteration: 2\n",
      "[15:01:21] /home/max/tvm/src/runtime/graph_executor/debug/graph_executor_debug.cc:108: Op #0 tvmgen_default_fused_nn_conv2d: 80430 us/iter\n"
     ]
    },
    {
     "name": "stdout",
     "output_type": "stream",
     "text": [
      "xception:conv2d_2 64 (80.43, 162.683, 0.24432373046875)\n"
     ]
    },
    {
     "name": "stderr",
     "output_type": "stream",
     "text": [
      "[15:01:35] /home/max/tvm/src/runtime/graph_executor/debug/graph_executor_debug.cc:103: Iteration: 0\n",
      "[15:01:35] /home/max/tvm/src/runtime/graph_executor/debug/graph_executor_debug.cc:108: Op #0 tvmgen_default_fused_nn_conv2d: 160850 us/iter\n",
      "[15:01:37] /home/max/tvm/src/runtime/graph_executor/debug/graph_executor_debug.cc:103: Iteration: 1\n",
      "[15:01:37] /home/max/tvm/src/runtime/graph_executor/debug/graph_executor_debug.cc:108: Op #0 tvmgen_default_fused_nn_conv2d: 160860 us/iter\n",
      "[15:01:38] /home/max/tvm/src/runtime/graph_executor/debug/graph_executor_debug.cc:103: Iteration: 2\n",
      "[15:01:38] /home/max/tvm/src/runtime/graph_executor/debug/graph_executor_debug.cc:108: Op #0 tvmgen_default_fused_nn_conv2d: 160894 us/iter\n"
     ]
    },
    {
     "name": "stdout",
     "output_type": "stream",
     "text": [
      "xception:conv2d_2 128 (160.894, 164.483, 0.39044189453125)\n",
      "[None, 10, 10, 1024]\n"
     ]
    },
    {
     "name": "stderr",
     "output_type": "stream",
     "text": [
      "[15:01:56] /home/max/tvm/src/runtime/graph_executor/debug/graph_executor_debug.cc:103: Iteration: 0\n",
      "[15:01:56] /home/max/tvm/src/runtime/graph_executor/debug/graph_executor_debug.cc:108: Op #0 tvmgen_default_fused_nn_conv2d: 643.589 us/iter\n",
      "[15:01:58] /home/max/tvm/src/runtime/graph_executor/debug/graph_executor_debug.cc:103: Iteration: 1\n",
      "[15:01:58] /home/max/tvm/src/runtime/graph_executor/debug/graph_executor_debug.cc:108: Op #0 tvmgen_default_fused_nn_conv2d: 643.722 us/iter\n",
      "[15:01:59] /home/max/tvm/src/runtime/graph_executor/debug/graph_executor_debug.cc:103: Iteration: 2\n",
      "[15:01:59] /home/max/tvm/src/runtime/graph_executor/debug/graph_executor_debug.cc:108: Op #0 tvmgen_default_fused_nn_conv2d: 644.816 us/iter\n"
     ]
    },
    {
     "name": "stdout",
     "output_type": "stream",
     "text": [
      "xception:conv2d_3 1 (0.644816, 117.876, 0.10186767578125)\n"
     ]
    },
    {
     "name": "stderr",
     "output_type": "stream",
     "text": [
      "[15:02:09] /home/max/tvm/src/runtime/graph_executor/debug/graph_executor_debug.cc:103: Iteration: 0\n",
      "[15:02:09] /home/max/tvm/src/runtime/graph_executor/debug/graph_executor_debug.cc:108: Op #0 tvmgen_default_fused_nn_conv2d: 1847.15 us/iter\n",
      "[15:02:11] /home/max/tvm/src/runtime/graph_executor/debug/graph_executor_debug.cc:103: Iteration: 1\n",
      "[15:02:11] /home/max/tvm/src/runtime/graph_executor/debug/graph_executor_debug.cc:108: Op #0 tvmgen_default_fused_nn_conv2d: 1846.7 us/iter\n",
      "[15:02:12] /home/max/tvm/src/runtime/graph_executor/debug/graph_executor_debug.cc:103: Iteration: 2\n",
      "[15:02:12] /home/max/tvm/src/runtime/graph_executor/debug/graph_executor_debug.cc:108: Op #0 tvmgen_default_fused_nn_conv2d: 1847.92 us/iter\n"
     ]
    },
    {
     "name": "stdout",
     "output_type": "stream",
     "text": [
      "xception:conv2d_3 8 (1.84792, 181.194, 0.11077880859375)\n"
     ]
    },
    {
     "name": "stderr",
     "output_type": "stream",
     "text": [
      "[15:02:23] /home/max/tvm/src/runtime/graph_executor/debug/graph_executor_debug.cc:103: Iteration: 0\n",
      "[15:02:23] /home/max/tvm/src/runtime/graph_executor/debug/graph_executor_debug.cc:108: Op #0 tvmgen_default_fused_nn_conv2d: 2846.08 us/iter\n",
      "[15:02:24] /home/max/tvm/src/runtime/graph_executor/debug/graph_executor_debug.cc:103: Iteration: 1\n",
      "[15:02:24] /home/max/tvm/src/runtime/graph_executor/debug/graph_executor_debug.cc:108: Op #0 tvmgen_default_fused_nn_conv2d: 2846.36 us/iter\n",
      "[15:02:26] /home/max/tvm/src/runtime/graph_executor/debug/graph_executor_debug.cc:103: Iteration: 2\n",
      "[15:02:26] /home/max/tvm/src/runtime/graph_executor/debug/graph_executor_debug.cc:108: Op #0 tvmgen_default_fused_nn_conv2d: 2845.1 us/iter\n"
     ]
    },
    {
     "name": "stdout",
     "output_type": "stream",
     "text": [
      "xception:conv2d_3 16 (2.8451, 210.046, 0.12164306640625)\n"
     ]
    },
    {
     "name": "stderr",
     "output_type": "stream",
     "text": [
      "[15:02:36] /home/max/tvm/src/runtime/graph_executor/debug/graph_executor_debug.cc:103: Iteration: 0\n",
      "[15:02:36] /home/max/tvm/src/runtime/graph_executor/debug/graph_executor_debug.cc:108: Op #0 tvmgen_default_fused_nn_conv2d: 5674.38 us/iter\n",
      "[15:02:38] /home/max/tvm/src/runtime/graph_executor/debug/graph_executor_debug.cc:103: Iteration: 1\n",
      "[15:02:38] /home/max/tvm/src/runtime/graph_executor/debug/graph_executor_debug.cc:108: Op #0 tvmgen_default_fused_nn_conv2d: 5678.28 us/iter\n",
      "[15:02:39] /home/max/tvm/src/runtime/graph_executor/debug/graph_executor_debug.cc:103: Iteration: 2\n",
      "[15:02:39] /home/max/tvm/src/runtime/graph_executor/debug/graph_executor_debug.cc:108: Op #0 tvmgen_default_fused_nn_conv2d: 5677.76 us/iter\n"
     ]
    },
    {
     "name": "stdout",
     "output_type": "stream",
     "text": [
      "xception:conv2d_3 32 (5.677759999999999, 208.009, 0.14337158203125)\n"
     ]
    },
    {
     "name": "stderr",
     "output_type": "stream",
     "text": [
      "[15:02:50] /home/max/tvm/src/runtime/graph_executor/debug/graph_executor_debug.cc:103: Iteration: 0\n",
      "[15:02:50] /home/max/tvm/src/runtime/graph_executor/debug/graph_executor_debug.cc:108: Op #0 tvmgen_default_fused_nn_conv2d: 11359.7 us/iter\n",
      "[15:02:52] /home/max/tvm/src/runtime/graph_executor/debug/graph_executor_debug.cc:103: Iteration: 1\n",
      "[15:02:52] /home/max/tvm/src/runtime/graph_executor/debug/graph_executor_debug.cc:108: Op #0 tvmgen_default_fused_nn_conv2d: 11355.3 us/iter\n",
      "[15:02:53] /home/max/tvm/src/runtime/graph_executor/debug/graph_executor_debug.cc:103: Iteration: 2\n",
      "[15:02:53] /home/max/tvm/src/runtime/graph_executor/debug/graph_executor_debug.cc:108: Op #0 tvmgen_default_fused_nn_conv2d: 11353.9 us/iter\n"
     ]
    },
    {
     "name": "stdout",
     "output_type": "stream",
     "text": [
      "xception:conv2d_3 64 (11.3539, 208.724, 0.18695068359375)\n"
     ]
    },
    {
     "name": "stderr",
     "output_type": "stream",
     "text": [
      "[15:03:05] /home/max/tvm/src/runtime/graph_executor/debug/graph_executor_debug.cc:103: Iteration: 0\n",
      "[15:03:05] /home/max/tvm/src/runtime/graph_executor/debug/graph_executor_debug.cc:108: Op #0 tvmgen_default_fused_nn_conv2d: 22210.6 us/iter\n",
      "[15:03:06] /home/max/tvm/src/runtime/graph_executor/debug/graph_executor_debug.cc:103: Iteration: 1\n",
      "[15:03:06] /home/max/tvm/src/runtime/graph_executor/debug/graph_executor_debug.cc:108: Op #0 tvmgen_default_fused_nn_conv2d: 22209 us/iter\n",
      "[15:03:08] /home/max/tvm/src/runtime/graph_executor/debug/graph_executor_debug.cc:103: Iteration: 2\n",
      "[15:03:08] /home/max/tvm/src/runtime/graph_executor/debug/graph_executor_debug.cc:108: Op #0 tvmgen_default_fused_nn_conv2d: 22192.9 us/iter\n"
     ]
    },
    {
     "name": "stdout",
     "output_type": "stream",
     "text": [
      "xception:conv2d_3 128 (22.1929, 215.284, 0.27398681640625)\n",
      "[None, 224, 224, 64]\n"
     ]
    },
    {
     "name": "stderr",
     "output_type": "stream",
     "text": [
      "[15:03:20] /home/max/tvm/src/runtime/graph_executor/debug/graph_executor_debug.cc:103: Iteration: 0\n",
      "[15:03:20] /home/max/tvm/src/runtime/graph_executor/debug/graph_executor_debug.cc:108: Op #0 tvmgen_default_fused_nn_conv2d: 159.875 us/iter\n",
      "[15:03:21] /home/max/tvm/src/runtime/graph_executor/debug/graph_executor_debug.cc:103: Iteration: 1\n",
      "[15:03:21] /home/max/tvm/src/runtime/graph_executor/debug/graph_executor_debug.cc:108: Op #0 tvmgen_default_fused_nn_conv2d: 159.925 us/iter\n",
      "[15:03:23] /home/max/tvm/src/runtime/graph_executor/debug/graph_executor_debug.cc:103: Iteration: 2\n",
      "[15:03:23] /home/max/tvm/src/runtime/graph_executor/debug/graph_executor_debug.cc:108: Op #0 tvmgen_default_fused_nn_conv2d: 159.931 us/iter\n"
     ]
    },
    {
     "name": "stdout",
     "output_type": "stream",
     "text": [
      "vgg16:block1_conv1 1 (0.15993100000000002, 209.629, 0.10980224609375)\n"
     ]
    },
    {
     "name": "stderr",
     "output_type": "stream",
     "text": [
      "[15:03:33] /home/max/tvm/src/runtime/graph_executor/debug/graph_executor_debug.cc:103: Iteration: 0\n",
      "[15:03:33] /home/max/tvm/src/runtime/graph_executor/debug/graph_executor_debug.cc:108: Op #0 tvmgen_default_fused_nn_conv2d: 1169.58 us/iter\n",
      "[15:03:34] /home/max/tvm/src/runtime/graph_executor/debug/graph_executor_debug.cc:103: Iteration: 1\n",
      "[15:03:34] /home/max/tvm/src/runtime/graph_executor/debug/graph_executor_debug.cc:108: Op #0 tvmgen_default_fused_nn_conv2d: 1169.89 us/iter\n",
      "[15:03:36] /home/max/tvm/src/runtime/graph_executor/debug/graph_executor_debug.cc:103: Iteration: 2\n",
      "[15:03:36] /home/max/tvm/src/runtime/graph_executor/debug/graph_executor_debug.cc:108: Op #0 tvmgen_default_fused_nn_conv2d: 1170.01 us/iter\n"
     ]
    },
    {
     "name": "stdout",
     "output_type": "stream",
     "text": [
      "vgg16:block1_conv1 8 (1.17001, 217.8295, 0.19659423828125)\n"
     ]
    },
    {
     "name": "stderr",
     "output_type": "stream",
     "text": [
      "[15:03:46] /home/max/tvm/src/runtime/graph_executor/debug/graph_executor_debug.cc:103: Iteration: 0\n",
      "[15:03:46] /home/max/tvm/src/runtime/graph_executor/debug/graph_executor_debug.cc:108: Op #0 tvmgen_default_fused_nn_conv2d: 2322.98 us/iter\n",
      "[15:03:47] /home/max/tvm/src/runtime/graph_executor/debug/graph_executor_debug.cc:103: Iteration: 1\n",
      "[15:03:47] /home/max/tvm/src/runtime/graph_executor/debug/graph_executor_debug.cc:108: Op #0 tvmgen_default_fused_nn_conv2d: 2323.26 us/iter\n",
      "[15:03:49] /home/max/tvm/src/runtime/graph_executor/debug/graph_executor_debug.cc:103: Iteration: 2\n",
      "[15:03:49] /home/max/tvm/src/runtime/graph_executor/debug/graph_executor_debug.cc:108: Op #0 tvmgen_default_fused_nn_conv2d: 2323.66 us/iter\n"
     ]
    },
    {
     "name": "stdout",
     "output_type": "stream",
     "text": [
      "vgg16:block1_conv1 16 (2.32366, 220.494, 0.29510498046875)\n"
     ]
    },
    {
     "name": "stderr",
     "output_type": "stream",
     "text": [
      "[15:03:59] /home/max/tvm/src/runtime/graph_executor/debug/graph_executor_debug.cc:103: Iteration: 0\n",
      "[15:03:59] /home/max/tvm/src/runtime/graph_executor/debug/graph_executor_debug.cc:108: Op #0 tvmgen_default_fused_nn_conv2d: 4620.35 us/iter\n",
      "[15:04:01] /home/max/tvm/src/runtime/graph_executor/debug/graph_executor_debug.cc:103: Iteration: 1\n",
      "[15:04:01] /home/max/tvm/src/runtime/graph_executor/debug/graph_executor_debug.cc:108: Op #0 tvmgen_default_fused_nn_conv2d: 4620.71 us/iter\n",
      "[15:04:02] /home/max/tvm/src/runtime/graph_executor/debug/graph_executor_debug.cc:103: Iteration: 2\n",
      "[15:04:02] /home/max/tvm/src/runtime/graph_executor/debug/graph_executor_debug.cc:108: Op #0 tvmgen_default_fused_nn_conv2d: 4621.99 us/iter\n"
     ]
    },
    {
     "name": "stdout",
     "output_type": "stream",
     "text": [
      "vgg16:block1_conv1 32 (4.62199, 221.3475, 0.49200439453125)\n"
     ]
    },
    {
     "name": "stderr",
     "output_type": "stream",
     "text": [
      "[15:04:13] /home/max/tvm/src/runtime/graph_executor/debug/graph_executor_debug.cc:103: Iteration: 0\n",
      "[15:04:13] /home/max/tvm/src/runtime/graph_executor/debug/graph_executor_debug.cc:108: Op #0 tvmgen_default_fused_nn_conv2d: 9245.46 us/iter\n",
      "[15:04:14] /home/max/tvm/src/runtime/graph_executor/debug/graph_executor_debug.cc:103: Iteration: 1\n",
      "[15:04:14] /home/max/tvm/src/runtime/graph_executor/debug/graph_executor_debug.cc:108: Op #0 tvmgen_default_fused_nn_conv2d: 9249.42 us/iter\n",
      "[15:04:16] /home/max/tvm/src/runtime/graph_executor/debug/graph_executor_debug.cc:103: Iteration: 2\n",
      "[15:04:16] /home/max/tvm/src/runtime/graph_executor/debug/graph_executor_debug.cc:108: Op #0 tvmgen_default_fused_nn_conv2d: 9245.11 us/iter\n"
     ]
    },
    {
     "name": "stdout",
     "output_type": "stream",
     "text": [
      "vgg16:block1_conv1 64 (9.24511, 218.209, 0.88592529296875)\n"
     ]
    },
    {
     "name": "stderr",
     "output_type": "stream",
     "text": [
      "[15:04:27] /home/max/tvm/src/runtime/graph_executor/debug/graph_executor_debug.cc:103: Iteration: 0\n",
      "[15:04:27] /home/max/tvm/src/runtime/graph_executor/debug/graph_executor_debug.cc:108: Op #0 tvmgen_default_fused_nn_conv2d: 18406 us/iter\n",
      "[15:04:28] /home/max/tvm/src/runtime/graph_executor/debug/graph_executor_debug.cc:103: Iteration: 1\n",
      "[15:04:28] /home/max/tvm/src/runtime/graph_executor/debug/graph_executor_debug.cc:108: Op #0 tvmgen_default_fused_nn_conv2d: 18411.8 us/iter\n",
      "[15:04:30] /home/max/tvm/src/runtime/graph_executor/debug/graph_executor_debug.cc:103: Iteration: 2\n",
      "[15:04:30] /home/max/tvm/src/runtime/graph_executor/debug/graph_executor_debug.cc:108: Op #0 tvmgen_default_fused_nn_conv2d: 18408.7 us/iter\n"
     ]
    },
    {
     "name": "stdout",
     "output_type": "stream",
     "text": [
      "vgg16:block1_conv1 128 (18.4087, 217.336, 1.67376708984375)\n",
      "[None, 224, 224, 64]\n"
     ]
    },
    {
     "name": "stderr",
     "output_type": "stream",
     "text": [
      "[15:04:42] /home/max/tvm/src/runtime/graph_executor/debug/graph_executor_debug.cc:103: Iteration: 0\n",
      "[15:04:42] /home/max/tvm/src/runtime/graph_executor/debug/graph_executor_debug.cc:108: Op #0 tvmgen_default_fused_nn_conv2d: 1611.32 us/iter\n",
      "[15:04:44] /home/max/tvm/src/runtime/graph_executor/debug/graph_executor_debug.cc:103: Iteration: 1\n",
      "[15:04:44] /home/max/tvm/src/runtime/graph_executor/debug/graph_executor_debug.cc:108: Op #0 tvmgen_default_fused_nn_conv2d: 1611.5 us/iter\n",
      "[15:04:45] /home/max/tvm/src/runtime/graph_executor/debug/graph_executor_debug.cc:103: Iteration: 2\n",
      "[15:04:45] /home/max/tvm/src/runtime/graph_executor/debug/graph_executor_debug.cc:108: Op #0 tvmgen_default_fused_nn_conv2d: 1611.34 us/iter\n"
     ]
    },
    {
     "name": "stdout",
     "output_type": "stream",
     "text": [
      "vgg16:block1_conv2 1 (1.61134, 194.986, 0.12176513671875)\n"
     ]
    },
    {
     "name": "stderr",
     "output_type": "stream",
     "text": [
      "[15:04:56] /home/max/tvm/src/runtime/graph_executor/debug/graph_executor_debug.cc:103: Iteration: 0\n",
      "[15:04:56] /home/max/tvm/src/runtime/graph_executor/debug/graph_executor_debug.cc:108: Op #0 tvmgen_default_fused_nn_conv2d: 12245.2 us/iter\n",
      "[15:04:58] /home/max/tvm/src/runtime/graph_executor/debug/graph_executor_debug.cc:103: Iteration: 1\n",
      "[15:04:58] /home/max/tvm/src/runtime/graph_executor/debug/graph_executor_debug.cc:108: Op #0 tvmgen_default_fused_nn_conv2d: 12243.1 us/iter\n",
      "[15:04:59] /home/max/tvm/src/runtime/graph_executor/debug/graph_executor_debug.cc:103: Iteration: 2\n",
      "[15:04:59] /home/max/tvm/src/runtime/graph_executor/debug/graph_executor_debug.cc:108: Op #0 tvmgen_default_fused_nn_conv2d: 12242.4 us/iter\n"
     ]
    },
    {
     "name": "stdout",
     "output_type": "stream",
     "text": [
      "vgg16:block1_conv2 8 (12.2424, 193.608, 0.28778076171875)\n"
     ]
    },
    {
     "name": "stderr",
     "output_type": "stream",
     "text": [
      "[15:05:12] /home/max/tvm/src/runtime/graph_executor/debug/graph_executor_debug.cc:103: Iteration: 0\n",
      "[15:05:12] /home/max/tvm/src/runtime/graph_executor/debug/graph_executor_debug.cc:108: Op #0 tvmgen_default_fused_nn_conv2d: 24376.5 us/iter\n",
      "[15:05:14] /home/max/tvm/src/runtime/graph_executor/debug/graph_executor_debug.cc:103: Iteration: 1\n",
      "[15:05:14] /home/max/tvm/src/runtime/graph_executor/debug/graph_executor_debug.cc:108: Op #0 tvmgen_default_fused_nn_conv2d: 24382.3 us/iter\n",
      "[15:05:15] /home/max/tvm/src/runtime/graph_executor/debug/graph_executor_debug.cc:103: Iteration: 2\n",
      "[15:05:15] /home/max/tvm/src/runtime/graph_executor/debug/graph_executor_debug.cc:108: Op #0 tvmgen_default_fused_nn_conv2d: 24374.1 us/iter\n"
     ]
    },
    {
     "name": "stdout",
     "output_type": "stream",
     "text": [
      "vgg16:block1_conv2 16 (24.3741, 195.0265, 0.47747802734375)\n"
     ]
    },
    {
     "name": "stderr",
     "output_type": "stream",
     "text": [
      "[15:05:30] /home/max/tvm/src/runtime/graph_executor/debug/graph_executor_debug.cc:103: Iteration: 0\n",
      "[15:05:30] /home/max/tvm/src/runtime/graph_executor/debug/graph_executor_debug.cc:108: Op #0 tvmgen_default_fused_nn_conv2d: 48622.9 us/iter\n",
      "[15:05:31] /home/max/tvm/src/runtime/graph_executor/debug/graph_executor_debug.cc:103: Iteration: 1\n",
      "[15:05:31] /home/max/tvm/src/runtime/graph_executor/debug/graph_executor_debug.cc:108: Op #0 tvmgen_default_fused_nn_conv2d: 48596 us/iter\n",
      "[15:05:33] /home/max/tvm/src/runtime/graph_executor/debug/graph_executor_debug.cc:103: Iteration: 2\n",
      "[15:05:33] /home/max/tvm/src/runtime/graph_executor/debug/graph_executor_debug.cc:108: Op #0 tvmgen_default_fused_nn_conv2d: 48610.1 us/iter\n"
     ]
    },
    {
     "name": "stdout",
     "output_type": "stream",
     "text": [
      "vgg16:block1_conv2 32 (48.6101, 196.955, 0.85687255859375)\n"
     ]
    },
    {
     "name": "stderr",
     "output_type": "stream",
     "text": [
      "[15:05:48] /home/max/tvm/src/runtime/graph_executor/debug/graph_executor_debug.cc:103: Iteration: 0\n",
      "[15:05:48] /home/max/tvm/src/runtime/graph_executor/debug/graph_executor_debug.cc:108: Op #0 tvmgen_default_fused_nn_conv2d: 96346.8 us/iter\n",
      "[15:05:51] /home/max/tvm/src/runtime/graph_executor/debug/graph_executor_debug.cc:103: Iteration: 1\n",
      "[15:05:51] /home/max/tvm/src/runtime/graph_executor/debug/graph_executor_debug.cc:108: Op #0 tvmgen_default_fused_nn_conv2d: 96286.4 us/iter\n",
      "[15:05:52] /home/max/tvm/src/runtime/graph_executor/debug/graph_executor_debug.cc:103: Iteration: 2\n",
      "[15:05:52] /home/max/tvm/src/runtime/graph_executor/debug/graph_executor_debug.cc:108: Op #0 tvmgen_default_fused_nn_conv2d: 96225 us/iter\n"
     ]
    },
    {
     "name": "stdout",
     "output_type": "stream",
     "text": [
      "vgg16:block1_conv2 64 (96.22500000000001, 206.849, 1.61566162109375)\n"
     ]
    },
    {
     "name": "stderr",
     "output_type": "stream",
     "text": [
      "[15:06:15] /home/max/tvm/src/runtime/graph_executor/debug/graph_executor_debug.cc:103: Iteration: 0\n",
      "[15:06:15] /home/max/tvm/src/runtime/graph_executor/debug/graph_executor_debug.cc:108: Op #0 tvmgen_default_fused_nn_conv2d: 192685 us/iter\n",
      "[15:06:17] /home/max/tvm/src/runtime/graph_executor/debug/graph_executor_debug.cc:103: Iteration: 1\n",
      "[15:06:17] /home/max/tvm/src/runtime/graph_executor/debug/graph_executor_debug.cc:108: Op #0 tvmgen_default_fused_nn_conv2d: 192373 us/iter\n",
      "[15:06:19] /home/max/tvm/src/runtime/graph_executor/debug/graph_executor_debug.cc:103: Iteration: 2\n",
      "[15:06:19] /home/max/tvm/src/runtime/graph_executor/debug/graph_executor_debug.cc:108: Op #0 tvmgen_default_fused_nn_conv2d: 192452 us/iter\n"
     ]
    },
    {
     "name": "stdout",
     "output_type": "stream",
     "text": [
      "vgg16:block1_conv2 128 (192.452, 207.707, 3.13323974609375)\n",
      "[None, 112, 112, 128]\n"
     ]
    },
    {
     "name": "stderr",
     "output_type": "stream",
     "text": [
      "[15:06:51] /home/max/tvm/src/runtime/graph_executor/debug/graph_executor_debug.cc:103: Iteration: 0\n",
      "[15:06:51] /home/max/tvm/src/runtime/graph_executor/debug/graph_executor_debug.cc:108: Op #0 tvmgen_default_fused_nn_conv2d: 1306.86 us/iter\n",
      "[15:06:53] /home/max/tvm/src/runtime/graph_executor/debug/graph_executor_debug.cc:103: Iteration: 1\n",
      "[15:06:53] /home/max/tvm/src/runtime/graph_executor/debug/graph_executor_debug.cc:108: Op #0 tvmgen_default_fused_nn_conv2d: 1306.17 us/iter\n",
      "[15:06:54] /home/max/tvm/src/runtime/graph_executor/debug/graph_executor_debug.cc:103: Iteration: 2\n",
      "[15:06:54] /home/max/tvm/src/runtime/graph_executor/debug/graph_executor_debug.cc:108: Op #0 tvmgen_default_fused_nn_conv2d: 1305.78 us/iter\n"
     ]
    },
    {
     "name": "stdout",
     "output_type": "stream",
     "text": [
      "vgg16:block2_conv1 1 (1.3057800000000002, 155.144, 0.10687255859375)\n"
     ]
    },
    {
     "name": "stderr",
     "output_type": "stream",
     "text": [
      "[15:07:06] /home/max/tvm/src/runtime/graph_executor/debug/graph_executor_debug.cc:103: Iteration: 0\n",
      "[15:07:06] /home/max/tvm/src/runtime/graph_executor/debug/graph_executor_debug.cc:108: Op #0 tvmgen_default_fused_nn_conv2d: 10655.3 us/iter\n",
      "[15:07:07] /home/max/tvm/src/runtime/graph_executor/debug/graph_executor_debug.cc:103: Iteration: 1\n",
      "[15:07:07] /home/max/tvm/src/runtime/graph_executor/debug/graph_executor_debug.cc:108: Op #0 tvmgen_default_fused_nn_conv2d: 10660.3 us/iter\n",
      "[15:07:09] /home/max/tvm/src/runtime/graph_executor/debug/graph_executor_debug.cc:103: Iteration: 2\n",
      "[15:07:09] /home/max/tvm/src/runtime/graph_executor/debug/graph_executor_debug.cc:108: Op #0 tvmgen_default_fused_nn_conv2d: 10660.7 us/iter\n"
     ]
    },
    {
     "name": "stdout",
     "output_type": "stream",
     "text": [
      "vgg16:block2_conv1 8 (10.6607, 152.342, 0.16815185546875)\n"
     ]
    },
    {
     "name": "stderr",
     "output_type": "stream",
     "text": [
      "[15:07:21] /home/max/tvm/src/runtime/graph_executor/debug/graph_executor_debug.cc:103: Iteration: 0\n",
      "[15:07:21] /home/max/tvm/src/runtime/graph_executor/debug/graph_executor_debug.cc:108: Op #0 tvmgen_default_fused_nn_conv2d: 20927.4 us/iter\n",
      "[15:07:22] /home/max/tvm/src/runtime/graph_executor/debug/graph_executor_debug.cc:103: Iteration: 1\n",
      "[15:07:22] /home/max/tvm/src/runtime/graph_executor/debug/graph_executor_debug.cc:108: Op #0 tvmgen_default_fused_nn_conv2d: 20938.4 us/iter\n",
      "[15:07:23] /home/max/tvm/src/runtime/graph_executor/debug/graph_executor_debug.cc:103: Iteration: 2\n",
      "[15:07:23] /home/max/tvm/src/runtime/graph_executor/debug/graph_executor_debug.cc:108: Op #0 tvmgen_default_fused_nn_conv2d: 20936.7 us/iter\n"
     ]
    },
    {
     "name": "stdout",
     "output_type": "stream",
     "text": [
      "vgg16:block2_conv1 16 (20.9367, 152.819, 0.23822021484375)\n"
     ]
    },
    {
     "name": "stderr",
     "output_type": "stream",
     "text": [
      "[15:07:37] /home/max/tvm/src/runtime/graph_executor/debug/graph_executor_debug.cc:103: Iteration: 0\n",
      "[15:07:37] /home/max/tvm/src/runtime/graph_executor/debug/graph_executor_debug.cc:108: Op #0 tvmgen_default_fused_nn_conv2d: 42474.6 us/iter\n",
      "[15:07:38] /home/max/tvm/src/runtime/graph_executor/debug/graph_executor_debug.cc:103: Iteration: 1\n",
      "[15:07:38] /home/max/tvm/src/runtime/graph_executor/debug/graph_executor_debug.cc:108: Op #0 tvmgen_default_fused_nn_conv2d: 42493.5 us/iter\n",
      "[15:07:39] /home/max/tvm/src/runtime/graph_executor/debug/graph_executor_debug.cc:103: Iteration: 2\n",
      "[15:07:39] /home/max/tvm/src/runtime/graph_executor/debug/graph_executor_debug.cc:108: Op #0 tvmgen_default_fused_nn_conv2d: 42512.6 us/iter\n"
     ]
    },
    {
     "name": "stdout",
     "output_type": "stream",
     "text": [
      "vgg16:block2_conv1 32 (42.5126, 152.093, 0.37835693359375)\n"
     ]
    },
    {
     "name": "stderr",
     "output_type": "stream",
     "text": [
      "[15:07:53] /home/max/tvm/src/runtime/graph_executor/debug/graph_executor_debug.cc:103: Iteration: 0\n",
      "[15:07:53] /home/max/tvm/src/runtime/graph_executor/debug/graph_executor_debug.cc:108: Op #0 tvmgen_default_fused_nn_conv2d: 83585.4 us/iter\n",
      "[15:07:54] /home/max/tvm/src/runtime/graph_executor/debug/graph_executor_debug.cc:103: Iteration: 1\n",
      "[15:07:54] /home/max/tvm/src/runtime/graph_executor/debug/graph_executor_debug.cc:108: Op #0 tvmgen_default_fused_nn_conv2d: 83592.7 us/iter\n",
      "[15:07:55] /home/max/tvm/src/runtime/graph_executor/debug/graph_executor_debug.cc:103: Iteration: 2\n",
      "[15:07:55] /home/max/tvm/src/runtime/graph_executor/debug/graph_executor_debug.cc:108: Op #0 tvmgen_default_fused_nn_conv2d: 83594.1 us/iter\n"
     ]
    },
    {
     "name": "stdout",
     "output_type": "stream",
     "text": [
      "vgg16:block2_conv1 64 (83.5941, 154.24, 0.65863037109375)\n"
     ]
    },
    {
     "name": "stderr",
     "output_type": "stream",
     "text": [
      "[15:08:11] /home/max/tvm/src/runtime/graph_executor/debug/graph_executor_debug.cc:103: Iteration: 0\n",
      "[15:08:11] /home/max/tvm/src/runtime/graph_executor/debug/graph_executor_debug.cc:108: Op #0 tvmgen_default_fused_nn_conv2d: 169707 us/iter\n",
      "[15:08:13] /home/max/tvm/src/runtime/graph_executor/debug/graph_executor_debug.cc:103: Iteration: 1\n",
      "[15:08:13] /home/max/tvm/src/runtime/graph_executor/debug/graph_executor_debug.cc:108: Op #0 tvmgen_default_fused_nn_conv2d: 169697 us/iter\n",
      "[15:08:14] /home/max/tvm/src/runtime/graph_executor/debug/graph_executor_debug.cc:103: Iteration: 2\n",
      "[15:08:14] /home/max/tvm/src/runtime/graph_executor/debug/graph_executor_debug.cc:108: Op #0 tvmgen_default_fused_nn_conv2d: 169703 us/iter\n"
     ]
    },
    {
     "name": "stdout",
     "output_type": "stream",
     "text": [
      "vgg16:block2_conv1 128 (169.703, 154.227, 1.21929931640625)\n",
      "[None, 112, 112, 128]\n"
     ]
    },
    {
     "name": "stderr",
     "output_type": "stream",
     "text": [
      "[15:08:35] /home/max/tvm/src/runtime/graph_executor/debug/graph_executor_debug.cc:103: Iteration: 0\n",
      "[15:08:35] /home/max/tvm/src/runtime/graph_executor/debug/graph_executor_debug.cc:108: Op #0 tvmgen_default_fused_nn_conv2d: 2577.95 us/iter\n",
      "[15:08:37] /home/max/tvm/src/runtime/graph_executor/debug/graph_executor_debug.cc:103: Iteration: 1\n",
      "[15:08:37] /home/max/tvm/src/runtime/graph_executor/debug/graph_executor_debug.cc:108: Op #0 tvmgen_default_fused_nn_conv2d: 2578.89 us/iter\n",
      "[15:08:38] /home/max/tvm/src/runtime/graph_executor/debug/graph_executor_debug.cc:103: Iteration: 2\n",
      "[15:08:38] /home/max/tvm/src/runtime/graph_executor/debug/graph_executor_debug.cc:108: Op #0 tvmgen_default_fused_nn_conv2d: 2577.05 us/iter\n"
     ]
    },
    {
     "name": "stdout",
     "output_type": "stream",
     "text": [
      "vgg16:block2_conv2 1 (2.57705, 171.25, 0.10980224609375)\n"
     ]
    },
    {
     "name": "stderr",
     "output_type": "stream",
     "text": [
      "[15:08:49] /home/max/tvm/src/runtime/graph_executor/debug/graph_executor_debug.cc:103: Iteration: 0\n",
      "[15:08:49] /home/max/tvm/src/runtime/graph_executor/debug/graph_executor_debug.cc:108: Op #0 tvmgen_default_fused_nn_conv2d: 18639 us/iter\n",
      "[15:08:50] /home/max/tvm/src/runtime/graph_executor/debug/graph_executor_debug.cc:103: Iteration: 1\n",
      "[15:08:50] /home/max/tvm/src/runtime/graph_executor/debug/graph_executor_debug.cc:108: Op #0 tvmgen_default_fused_nn_conv2d: 18643.4 us/iter\n",
      "[15:08:52] /home/max/tvm/src/runtime/graph_executor/debug/graph_executor_debug.cc:103: Iteration: 2\n",
      "[15:08:52] /home/max/tvm/src/runtime/graph_executor/debug/graph_executor_debug.cc:108: Op #0 tvmgen_default_fused_nn_conv2d: 18636.1 us/iter\n"
     ]
    },
    {
     "name": "stdout",
     "output_type": "stream",
     "text": [
      "vgg16:block2_conv2 8 (18.6361, 171.0825, 0.19207763671875)\n"
     ]
    },
    {
     "name": "stderr",
     "output_type": "stream",
     "text": [
      "[15:09:04] /home/max/tvm/src/runtime/graph_executor/debug/graph_executor_debug.cc:103: Iteration: 0\n",
      "[15:09:04] /home/max/tvm/src/runtime/graph_executor/debug/graph_executor_debug.cc:108: Op #0 tvmgen_default_fused_nn_conv2d: 37331.7 us/iter\n",
      "[15:09:05] /home/max/tvm/src/runtime/graph_executor/debug/graph_executor_debug.cc:103: Iteration: 1\n",
      "[15:09:05] /home/max/tvm/src/runtime/graph_executor/debug/graph_executor_debug.cc:108: Op #0 tvmgen_default_fused_nn_conv2d: 37314 us/iter\n",
      "[15:09:07] /home/max/tvm/src/runtime/graph_executor/debug/graph_executor_debug.cc:103: Iteration: 2\n",
      "[15:09:07] /home/max/tvm/src/runtime/graph_executor/debug/graph_executor_debug.cc:108: Op #0 tvmgen_default_fused_nn_conv2d: 37314.6 us/iter\n"
     ]
    },
    {
     "name": "stdout",
     "output_type": "stream",
     "text": [
      "vgg16:block2_conv2 16 (37.314600000000006, 172.004, 0.28607177734375)\n"
     ]
    },
    {
     "name": "stderr",
     "output_type": "stream",
     "text": [
      "[15:09:20] /home/max/tvm/src/runtime/graph_executor/debug/graph_executor_debug.cc:103: Iteration: 0\n",
      "[15:09:20] /home/max/tvm/src/runtime/graph_executor/debug/graph_executor_debug.cc:108: Op #0 tvmgen_default_fused_nn_conv2d: 74183.6 us/iter\n",
      "[15:09:21] /home/max/tvm/src/runtime/graph_executor/debug/graph_executor_debug.cc:103: Iteration: 1\n",
      "[15:09:21] /home/max/tvm/src/runtime/graph_executor/debug/graph_executor_debug.cc:108: Op #0 tvmgen_default_fused_nn_conv2d: 74187.2 us/iter\n",
      "[15:09:22] /home/max/tvm/src/runtime/graph_executor/debug/graph_executor_debug.cc:103: Iteration: 2\n",
      "[15:09:22] /home/max/tvm/src/runtime/graph_executor/debug/graph_executor_debug.cc:108: Op #0 tvmgen_default_fused_nn_conv2d: 74186.6 us/iter\n"
     ]
    },
    {
     "name": "stdout",
     "output_type": "stream",
     "text": [
      "vgg16:block2_conv2 32 (74.1866, 173.664, 0.47406005859375)\n"
     ]
    },
    {
     "name": "stderr",
     "output_type": "stream",
     "text": [
      "[15:09:36] /home/max/tvm/src/runtime/graph_executor/debug/graph_executor_debug.cc:103: Iteration: 0\n",
      "[15:09:36] /home/max/tvm/src/runtime/graph_executor/debug/graph_executor_debug.cc:108: Op #0 tvmgen_default_fused_nn_conv2d: 149032 us/iter\n",
      "[15:09:38] /home/max/tvm/src/runtime/graph_executor/debug/graph_executor_debug.cc:103: Iteration: 1\n",
      "[15:09:38] /home/max/tvm/src/runtime/graph_executor/debug/graph_executor_debug.cc:108: Op #0 tvmgen_default_fused_nn_conv2d: 149005 us/iter\n",
      "[15:09:39] /home/max/tvm/src/runtime/graph_executor/debug/graph_executor_debug.cc:103: Iteration: 2\n",
      "[15:09:39] /home/max/tvm/src/runtime/graph_executor/debug/graph_executor_debug.cc:108: Op #0 tvmgen_default_fused_nn_conv2d: 148929 us/iter\n"
     ]
    },
    {
     "name": "stdout",
     "output_type": "stream",
     "text": [
      "vgg16:block2_conv2 64 (148.929, 174.826, 0.85003662109375)\n"
     ]
    },
    {
     "name": "stderr",
     "output_type": "stream",
     "text": [
      "[15:10:00] /home/max/tvm/src/runtime/graph_executor/debug/graph_executor_debug.cc:103: Iteration: 0\n",
      "[15:10:00] /home/max/tvm/src/runtime/graph_executor/debug/graph_executor_debug.cc:108: Op #0 tvmgen_default_fused_nn_conv2d: 296470 us/iter\n",
      "[15:10:03] /home/max/tvm/src/runtime/graph_executor/debug/graph_executor_debug.cc:103: Iteration: 1\n",
      "[15:10:03] /home/max/tvm/src/runtime/graph_executor/debug/graph_executor_debug.cc:108: Op #0 tvmgen_default_fused_nn_conv2d: 296382 us/iter\n",
      "[15:10:06] /home/max/tvm/src/runtime/graph_executor/debug/graph_executor_debug.cc:103: Iteration: 2\n",
      "[15:10:06] /home/max/tvm/src/runtime/graph_executor/debug/graph_executor_debug.cc:108: Op #0 tvmgen_default_fused_nn_conv2d: 296382 us/iter\n"
     ]
    },
    {
     "name": "stdout",
     "output_type": "stream",
     "text": [
      "vgg16:block2_conv2 128 (296.382, 175.262, 1.60211181640625)\n",
      "[None, 56, 56, 256]\n"
     ]
    },
    {
     "name": "stderr",
     "output_type": "stream",
     "text": [
      "[15:10:33] /home/max/tvm/src/runtime/graph_executor/debug/graph_executor_debug.cc:103: Iteration: 0\n",
      "[15:10:33] /home/max/tvm/src/runtime/graph_executor/debug/graph_executor_debug.cc:108: Op #0 tvmgen_default_fused_nn_conv2d: 1854.33 us/iter\n",
      "[15:10:34] /home/max/tvm/src/runtime/graph_executor/debug/graph_executor_debug.cc:103: Iteration: 1\n",
      "[15:10:34] /home/max/tvm/src/runtime/graph_executor/debug/graph_executor_debug.cc:108: Op #0 tvmgen_default_fused_nn_conv2d: 1853.31 us/iter\n",
      "[15:10:36] /home/max/tvm/src/runtime/graph_executor/debug/graph_executor_debug.cc:103: Iteration: 2\n",
      "[15:10:36] /home/max/tvm/src/runtime/graph_executor/debug/graph_executor_debug.cc:108: Op #0 tvmgen_default_fused_nn_conv2d: 1850.76 us/iter\n"
     ]
    },
    {
     "name": "stdout",
     "output_type": "stream",
     "text": [
      "vgg16:block3_conv1 1 (1.85076, 146.128, 0.10247802734375)\n"
     ]
    },
    {
     "name": "stderr",
     "output_type": "stream",
     "text": [
      "[15:10:47] /home/max/tvm/src/runtime/graph_executor/debug/graph_executor_debug.cc:103: Iteration: 0\n",
      "[15:10:47] /home/max/tvm/src/runtime/graph_executor/debug/graph_executor_debug.cc:108: Op #0 tvmgen_default_fused_nn_conv2d: 12511.1 us/iter\n",
      "[15:10:48] /home/max/tvm/src/runtime/graph_executor/debug/graph_executor_debug.cc:103: Iteration: 1\n",
      "[15:10:48] /home/max/tvm/src/runtime/graph_executor/debug/graph_executor_debug.cc:108: Op #0 tvmgen_default_fused_nn_conv2d: 12509.3 us/iter\n",
      "[15:10:50] /home/max/tvm/src/runtime/graph_executor/debug/graph_executor_debug.cc:103: Iteration: 2\n",
      "[15:10:50] /home/max/tvm/src/runtime/graph_executor/debug/graph_executor_debug.cc:108: Op #0 tvmgen_default_fused_nn_conv2d: 12510.5 us/iter\n"
     ]
    },
    {
     "name": "stdout",
     "output_type": "stream",
     "text": [
      "vgg16:block3_conv1 8 (12.5105, 154.466, 0.13238525390625)\n"
     ]
    },
    {
     "name": "stderr",
     "output_type": "stream",
     "text": [
      "[15:11:01] /home/max/tvm/src/runtime/graph_executor/debug/graph_executor_debug.cc:103: Iteration: 0\n",
      "[15:11:01] /home/max/tvm/src/runtime/graph_executor/debug/graph_executor_debug.cc:108: Op #0 tvmgen_default_fused_nn_conv2d: 24293.6 us/iter\n",
      "[15:11:03] /home/max/tvm/src/runtime/graph_executor/debug/graph_executor_debug.cc:103: Iteration: 1\n",
      "[15:11:03] /home/max/tvm/src/runtime/graph_executor/debug/graph_executor_debug.cc:108: Op #0 tvmgen_default_fused_nn_conv2d: 24297.3 us/iter\n",
      "[15:11:04] /home/max/tvm/src/runtime/graph_executor/debug/graph_executor_debug.cc:103: Iteration: 2\n",
      "[15:11:04] /home/max/tvm/src/runtime/graph_executor/debug/graph_executor_debug.cc:108: Op #0 tvmgen_default_fused_nn_conv2d: 24295.5 us/iter\n"
     ]
    },
    {
     "name": "stdout",
     "output_type": "stream",
     "text": [
      "vgg16:block3_conv1 16 (24.2955, 156.604, 0.16656494140625)\n"
     ]
    },
    {
     "name": "stderr",
     "output_type": "stream",
     "text": [
      "[15:11:16] /home/max/tvm/src/runtime/graph_executor/debug/graph_executor_debug.cc:103: Iteration: 0\n",
      "[15:11:16] /home/max/tvm/src/runtime/graph_executor/debug/graph_executor_debug.cc:108: Op #0 tvmgen_default_fused_nn_conv2d: 48285.2 us/iter\n",
      "[15:11:18] /home/max/tvm/src/runtime/graph_executor/debug/graph_executor_debug.cc:103: Iteration: 1\n",
      "[15:11:18] /home/max/tvm/src/runtime/graph_executor/debug/graph_executor_debug.cc:108: Op #0 tvmgen_default_fused_nn_conv2d: 48265.7 us/iter\n",
      "[15:11:19] /home/max/tvm/src/runtime/graph_executor/debug/graph_executor_debug.cc:103: Iteration: 2\n",
      "[15:11:19] /home/max/tvm/src/runtime/graph_executor/debug/graph_executor_debug.cc:108: Op #0 tvmgen_default_fused_nn_conv2d: 48284.4 us/iter\n"
     ]
    },
    {
     "name": "stdout",
     "output_type": "stream",
     "text": [
      "vgg16:block3_conv1 32 (48.2844, 156.603, 0.23492431640625)\n"
     ]
    },
    {
     "name": "stderr",
     "output_type": "stream",
     "text": [
      "[15:11:31] /home/max/tvm/src/runtime/graph_executor/debug/graph_executor_debug.cc:103: Iteration: 0\n",
      "[15:11:31] /home/max/tvm/src/runtime/graph_executor/debug/graph_executor_debug.cc:108: Op #0 tvmgen_default_fused_nn_conv2d: 96135.3 us/iter\n",
      "[15:11:34] /home/max/tvm/src/runtime/graph_executor/debug/graph_executor_debug.cc:103: Iteration: 1\n",
      "[15:11:34] /home/max/tvm/src/runtime/graph_executor/debug/graph_executor_debug.cc:108: Op #0 tvmgen_default_fused_nn_conv2d: 96155.2 us/iter\n",
      "[15:11:35] /home/max/tvm/src/runtime/graph_executor/debug/graph_executor_debug.cc:103: Iteration: 2\n",
      "[15:11:35] /home/max/tvm/src/runtime/graph_executor/debug/graph_executor_debug.cc:108: Op #0 tvmgen_default_fused_nn_conv2d: 96201.3 us/iter\n"
     ]
    },
    {
     "name": "stdout",
     "output_type": "stream",
     "text": [
      "vgg16:block3_conv1 64 (96.2013, 157.343, 0.37176513671875)\n"
     ]
    },
    {
     "name": "stderr",
     "output_type": "stream",
     "text": [
      "[15:11:50] /home/max/tvm/src/runtime/graph_executor/debug/graph_executor_debug.cc:103: Iteration: 0\n",
      "[15:11:50] /home/max/tvm/src/runtime/graph_executor/debug/graph_executor_debug.cc:108: Op #0 tvmgen_default_fused_nn_conv2d: 191917 us/iter\n",
      "[15:11:52] /home/max/tvm/src/runtime/graph_executor/debug/graph_executor_debug.cc:103: Iteration: 1\n",
      "[15:11:52] /home/max/tvm/src/runtime/graph_executor/debug/graph_executor_debug.cc:108: Op #0 tvmgen_default_fused_nn_conv2d: 191937 us/iter\n",
      "[15:11:54] /home/max/tvm/src/runtime/graph_executor/debug/graph_executor_debug.cc:103: Iteration: 2\n",
      "[15:11:54] /home/max/tvm/src/runtime/graph_executor/debug/graph_executor_debug.cc:108: Op #0 tvmgen_default_fused_nn_conv2d: 191817 us/iter\n"
     ]
    },
    {
     "name": "stdout",
     "output_type": "stream",
     "text": [
      "vgg16:block3_conv1 128 (191.81699999999998, 157.519, 0.64544677734375)\n",
      "[None, 56, 56, 256]\n"
     ]
    },
    {
     "name": "stderr",
     "output_type": "stream",
     "text": [
      "[15:12:15] /home/max/tvm/src/runtime/graph_executor/debug/graph_executor_debug.cc:103: Iteration: 0\n",
      "[15:12:15] /home/max/tvm/src/runtime/graph_executor/debug/graph_executor_debug.cc:108: Op #0 tvmgen_default_fused_nn_conv2d: 2613.71 us/iter\n",
      "[15:12:17] /home/max/tvm/src/runtime/graph_executor/debug/graph_executor_debug.cc:103: Iteration: 1\n",
      "[15:12:17] /home/max/tvm/src/runtime/graph_executor/debug/graph_executor_debug.cc:108: Op #0 tvmgen_default_fused_nn_conv2d: 2614.44 us/iter\n",
      "[15:12:18] /home/max/tvm/src/runtime/graph_executor/debug/graph_executor_debug.cc:103: Iteration: 2\n",
      "[15:12:18] /home/max/tvm/src/runtime/graph_executor/debug/graph_executor_debug.cc:108: Op #0 tvmgen_default_fused_nn_conv2d: 2614.08 us/iter\n"
     ]
    },
    {
     "name": "stdout",
     "output_type": "stream",
     "text": [
      "vgg16:block3_conv2 1 (2.61408, 172.571, 0.10504150390625)\n"
     ]
    },
    {
     "name": "stderr",
     "output_type": "stream",
     "text": [
      "[15:12:30] /home/max/tvm/src/runtime/graph_executor/debug/graph_executor_debug.cc:103: Iteration: 0\n",
      "[15:12:30] /home/max/tvm/src/runtime/graph_executor/debug/graph_executor_debug.cc:108: Op #0 tvmgen_default_fused_nn_conv2d: 19761.9 us/iter\n",
      "[15:12:31] /home/max/tvm/src/runtime/graph_executor/debug/graph_executor_debug.cc:103: Iteration: 1\n",
      "[15:12:31] /home/max/tvm/src/runtime/graph_executor/debug/graph_executor_debug.cc:108: Op #0 tvmgen_default_fused_nn_conv2d: 19762.8 us/iter\n",
      "[15:12:33] /home/max/tvm/src/runtime/graph_executor/debug/graph_executor_debug.cc:103: Iteration: 2\n",
      "[15:12:33] /home/max/tvm/src/runtime/graph_executor/debug/graph_executor_debug.cc:108: Op #0 tvmgen_default_fused_nn_conv2d: 19764 us/iter\n"
     ]
    },
    {
     "name": "stdout",
     "output_type": "stream",
     "text": [
      "vgg16:block3_conv2 8 (19.764, 170.613, 0.14544677734375)\n"
     ]
    },
    {
     "name": "stderr",
     "output_type": "stream",
     "text": [
      "[15:12:46] /home/max/tvm/src/runtime/graph_executor/debug/graph_executor_debug.cc:103: Iteration: 0\n",
      "[15:12:46] /home/max/tvm/src/runtime/graph_executor/debug/graph_executor_debug.cc:108: Op #0 tvmgen_default_fused_nn_conv2d: 39130.2 us/iter\n",
      "[15:12:47] /home/max/tvm/src/runtime/graph_executor/debug/graph_executor_debug.cc:103: Iteration: 1\n",
      "[15:12:47] /home/max/tvm/src/runtime/graph_executor/debug/graph_executor_debug.cc:108: Op #0 tvmgen_default_fused_nn_conv2d: 39178.2 us/iter\n",
      "[15:12:49] /home/max/tvm/src/runtime/graph_executor/debug/graph_executor_debug.cc:103: Iteration: 2\n",
      "[15:12:49] /home/max/tvm/src/runtime/graph_executor/debug/graph_executor_debug.cc:108: Op #0 tvmgen_default_fused_nn_conv2d: 39174 us/iter\n"
     ]
    },
    {
     "name": "stdout",
     "output_type": "stream",
     "text": [
      "vgg16:block3_conv2 16 (39.174, 171.377, 0.19158935546875)\n"
     ]
    },
    {
     "name": "stderr",
     "output_type": "stream",
     "text": [
      "[15:13:02] /home/max/tvm/src/runtime/graph_executor/debug/graph_executor_debug.cc:103: Iteration: 0\n",
      "[15:13:02] /home/max/tvm/src/runtime/graph_executor/debug/graph_executor_debug.cc:108: Op #0 tvmgen_default_fused_nn_conv2d: 77448.1 us/iter\n",
      "[15:13:03] /home/max/tvm/src/runtime/graph_executor/debug/graph_executor_debug.cc:103: Iteration: 1\n",
      "[15:13:03] /home/max/tvm/src/runtime/graph_executor/debug/graph_executor_debug.cc:108: Op #0 tvmgen_default_fused_nn_conv2d: 77399.4 us/iter\n",
      "[15:13:05] /home/max/tvm/src/runtime/graph_executor/debug/graph_executor_debug.cc:103: Iteration: 2\n",
      "[15:13:05] /home/max/tvm/src/runtime/graph_executor/debug/graph_executor_debug.cc:108: Op #0 tvmgen_default_fused_nn_conv2d: 77424.4 us/iter\n"
     ]
    },
    {
     "name": "stdout",
     "output_type": "stream",
     "text": [
      "vgg16:block3_conv2 32 (77.4244, 172.606, 0.28387451171875)\n"
     ]
    },
    {
     "name": "stderr",
     "output_type": "stream",
     "text": [
      "[15:13:19] /home/max/tvm/src/runtime/graph_executor/debug/graph_executor_debug.cc:103: Iteration: 0\n",
      "[15:13:19] /home/max/tvm/src/runtime/graph_executor/debug/graph_executor_debug.cc:108: Op #0 tvmgen_default_fused_nn_conv2d: 153966 us/iter\n",
      "[15:13:21] /home/max/tvm/src/runtime/graph_executor/debug/graph_executor_debug.cc:103: Iteration: 1\n",
      "[15:13:21] /home/max/tvm/src/runtime/graph_executor/debug/graph_executor_debug.cc:108: Op #0 tvmgen_default_fused_nn_conv2d: 153904 us/iter\n",
      "[15:13:22] /home/max/tvm/src/runtime/graph_executor/debug/graph_executor_debug.cc:103: Iteration: 2\n",
      "[15:13:22] /home/max/tvm/src/runtime/graph_executor/debug/graph_executor_debug.cc:108: Op #0 tvmgen_default_fused_nn_conv2d: 154004 us/iter\n"
     ]
    },
    {
     "name": "stdout",
     "output_type": "stream",
     "text": [
      "vgg16:block3_conv2 64 (154.004, 174.098, 0.46856689453125)\n"
     ]
    },
    {
     "name": "stderr",
     "output_type": "stream",
     "text": [
      "[15:13:43] /home/max/tvm/src/runtime/graph_executor/debug/graph_executor_debug.cc:103: Iteration: 0\n",
      "[15:13:43] /home/max/tvm/src/runtime/graph_executor/debug/graph_executor_debug.cc:108: Op #0 tvmgen_default_fused_nn_conv2d: 306725 us/iter\n",
      "[15:13:46] /home/max/tvm/src/runtime/graph_executor/debug/graph_executor_debug.cc:103: Iteration: 1\n",
      "[15:13:46] /home/max/tvm/src/runtime/graph_executor/debug/graph_executor_debug.cc:108: Op #0 tvmgen_default_fused_nn_conv2d: 306822 us/iter\n",
      "[15:13:49] /home/max/tvm/src/runtime/graph_executor/debug/graph_executor_debug.cc:103: Iteration: 2\n",
      "[15:13:49] /home/max/tvm/src/runtime/graph_executor/debug/graph_executor_debug.cc:108: Op #0 tvmgen_default_fused_nn_conv2d: 306863 us/iter\n"
     ]
    },
    {
     "name": "stdout",
     "output_type": "stream",
     "text": [
      "vgg16:block3_conv2 128 (306.863, 174.45, 0.83795166015625)\n",
      "[None, 56, 56, 256]\n"
     ]
    },
    {
     "name": "stderr",
     "output_type": "stream",
     "text": [
      "[15:14:15] /home/max/tvm/src/runtime/graph_executor/debug/graph_executor_debug.cc:103: Iteration: 0\n",
      "[15:14:15] /home/max/tvm/src/runtime/graph_executor/debug/graph_executor_debug.cc:108: Op #0 tvmgen_default_fused_nn_conv2d: 2618.99 us/iter\n",
      "[15:14:16] /home/max/tvm/src/runtime/graph_executor/debug/graph_executor_debug.cc:103: Iteration: 1\n",
      "[15:14:16] /home/max/tvm/src/runtime/graph_executor/debug/graph_executor_debug.cc:108: Op #0 tvmgen_default_fused_nn_conv2d: 2616.37 us/iter\n",
      "[15:14:18] /home/max/tvm/src/runtime/graph_executor/debug/graph_executor_debug.cc:103: Iteration: 2\n",
      "[15:14:18] /home/max/tvm/src/runtime/graph_executor/debug/graph_executor_debug.cc:108: Op #0 tvmgen_default_fused_nn_conv2d: 2615.73 us/iter\n"
     ]
    },
    {
     "name": "stdout",
     "output_type": "stream",
     "text": [
      "vgg16:block3_conv3 1 (2.61573, 172.72250000000003, 0.10504150390625)\n"
     ]
    },
    {
     "name": "stderr",
     "output_type": "stream",
     "text": [
      "[15:14:29] /home/max/tvm/src/runtime/graph_executor/debug/graph_executor_debug.cc:103: Iteration: 0\n",
      "[15:14:29] /home/max/tvm/src/runtime/graph_executor/debug/graph_executor_debug.cc:108: Op #0 tvmgen_default_fused_nn_conv2d: 19765.4 us/iter\n",
      "[15:14:31] /home/max/tvm/src/runtime/graph_executor/debug/graph_executor_debug.cc:103: Iteration: 1\n",
      "[15:14:31] /home/max/tvm/src/runtime/graph_executor/debug/graph_executor_debug.cc:108: Op #0 tvmgen_default_fused_nn_conv2d: 19761.9 us/iter\n",
      "[15:14:32] /home/max/tvm/src/runtime/graph_executor/debug/graph_executor_debug.cc:103: Iteration: 2\n",
      "[15:14:32] /home/max/tvm/src/runtime/graph_executor/debug/graph_executor_debug.cc:108: Op #0 tvmgen_default_fused_nn_conv2d: 19762.9 us/iter\n"
     ]
    },
    {
     "name": "stdout",
     "output_type": "stream",
     "text": [
      "vgg16:block3_conv3 8 (19.7629, 171.747, 0.14544677734375)\n"
     ]
    },
    {
     "name": "stderr",
     "output_type": "stream",
     "text": [
      "[15:14:45] /home/max/tvm/src/runtime/graph_executor/debug/graph_executor_debug.cc:103: Iteration: 0\n",
      "[15:14:45] /home/max/tvm/src/runtime/graph_executor/debug/graph_executor_debug.cc:108: Op #0 tvmgen_default_fused_nn_conv2d: 39133.3 us/iter\n",
      "[15:14:47] /home/max/tvm/src/runtime/graph_executor/debug/graph_executor_debug.cc:103: Iteration: 1\n",
      "[15:14:47] /home/max/tvm/src/runtime/graph_executor/debug/graph_executor_debug.cc:108: Op #0 tvmgen_default_fused_nn_conv2d: 39176.8 us/iter\n",
      "[15:14:48] /home/max/tvm/src/runtime/graph_executor/debug/graph_executor_debug.cc:103: Iteration: 2\n",
      "[15:14:48] /home/max/tvm/src/runtime/graph_executor/debug/graph_executor_debug.cc:108: Op #0 tvmgen_default_fused_nn_conv2d: 39120.5 us/iter\n"
     ]
    },
    {
     "name": "stdout",
     "output_type": "stream",
     "text": [
      "vgg16:block3_conv3 16 (39.1205, 171.287, 0.19158935546875)\n"
     ]
    },
    {
     "name": "stderr",
     "output_type": "stream",
     "text": [
      "[15:15:01] /home/max/tvm/src/runtime/graph_executor/debug/graph_executor_debug.cc:103: Iteration: 0\n",
      "[15:15:01] /home/max/tvm/src/runtime/graph_executor/debug/graph_executor_debug.cc:108: Op #0 tvmgen_default_fused_nn_conv2d: 77384.3 us/iter\n",
      "[15:15:03] /home/max/tvm/src/runtime/graph_executor/debug/graph_executor_debug.cc:103: Iteration: 1\n",
      "[15:15:03] /home/max/tvm/src/runtime/graph_executor/debug/graph_executor_debug.cc:108: Op #0 tvmgen_default_fused_nn_conv2d: 77447.2 us/iter\n",
      "[15:15:04] /home/max/tvm/src/runtime/graph_executor/debug/graph_executor_debug.cc:103: Iteration: 2\n",
      "[15:15:04] /home/max/tvm/src/runtime/graph_executor/debug/graph_executor_debug.cc:108: Op #0 tvmgen_default_fused_nn_conv2d: 77420.3 us/iter\n"
     ]
    },
    {
     "name": "stdout",
     "output_type": "stream",
     "text": [
      "vgg16:block3_conv3 32 (77.4203, 172.785, 0.28387451171875)\n"
     ]
    },
    {
     "name": "stderr",
     "output_type": "stream",
     "text": [
      "[15:15:19] /home/max/tvm/src/runtime/graph_executor/debug/graph_executor_debug.cc:103: Iteration: 0\n",
      "[15:15:19] /home/max/tvm/src/runtime/graph_executor/debug/graph_executor_debug.cc:108: Op #0 tvmgen_default_fused_nn_conv2d: 153963 us/iter\n",
      "[15:15:20] /home/max/tvm/src/runtime/graph_executor/debug/graph_executor_debug.cc:103: Iteration: 1\n",
      "[15:15:20] /home/max/tvm/src/runtime/graph_executor/debug/graph_executor_debug.cc:108: Op #0 tvmgen_default_fused_nn_conv2d: 153814 us/iter\n",
      "[15:15:22] /home/max/tvm/src/runtime/graph_executor/debug/graph_executor_debug.cc:103: Iteration: 2\n",
      "[15:15:22] /home/max/tvm/src/runtime/graph_executor/debug/graph_executor_debug.cc:108: Op #0 tvmgen_default_fused_nn_conv2d: 154054 us/iter\n"
     ]
    },
    {
     "name": "stdout",
     "output_type": "stream",
     "text": [
      "vgg16:block3_conv3 64 (154.054, 173.901, 0.46856689453125)\n"
     ]
    },
    {
     "name": "stderr",
     "output_type": "stream",
     "text": [
      "[15:15:42] /home/max/tvm/src/runtime/graph_executor/debug/graph_executor_debug.cc:103: Iteration: 0\n",
      "[15:15:42] /home/max/tvm/src/runtime/graph_executor/debug/graph_executor_debug.cc:108: Op #0 tvmgen_default_fused_nn_conv2d: 306846 us/iter\n",
      "[15:15:45] /home/max/tvm/src/runtime/graph_executor/debug/graph_executor_debug.cc:103: Iteration: 1\n",
      "[15:15:45] /home/max/tvm/src/runtime/graph_executor/debug/graph_executor_debug.cc:108: Op #0 tvmgen_default_fused_nn_conv2d: 306595 us/iter\n",
      "[15:15:48] /home/max/tvm/src/runtime/graph_executor/debug/graph_executor_debug.cc:103: Iteration: 2\n",
      "[15:15:48] /home/max/tvm/src/runtime/graph_executor/debug/graph_executor_debug.cc:108: Op #0 tvmgen_default_fused_nn_conv2d: 306879 us/iter\n"
     ]
    },
    {
     "name": "stdout",
     "output_type": "stream",
     "text": [
      "vgg16:block3_conv3 128 (306.879, 174.104, 0.83795166015625)\n",
      "[None, 28, 28, 512]\n"
     ]
    },
    {
     "name": "stderr",
     "output_type": "stream",
     "text": [
      "[15:16:13] /home/max/tvm/src/runtime/graph_executor/debug/graph_executor_debug.cc:103: Iteration: 0\n",
      "[15:16:13] /home/max/tvm/src/runtime/graph_executor/debug/graph_executor_debug.cc:108: Op #0 tvmgen_default_fused_nn_conv2d: 1162.19 us/iter\n",
      "[15:16:14] /home/max/tvm/src/runtime/graph_executor/debug/graph_executor_debug.cc:103: Iteration: 1\n",
      "[15:16:14] /home/max/tvm/src/runtime/graph_executor/debug/graph_executor_debug.cc:108: Op #0 tvmgen_default_fused_nn_conv2d: 1162.76 us/iter\n",
      "[15:16:16] /home/max/tvm/src/runtime/graph_executor/debug/graph_executor_debug.cc:103: Iteration: 2\n",
      "[15:16:16] /home/max/tvm/src/runtime/graph_executor/debug/graph_executor_debug.cc:108: Op #0 tvmgen_default_fused_nn_conv2d: 1165.29 us/iter\n"
     ]
    },
    {
     "name": "stdout",
     "output_type": "stream",
     "text": [
      "vgg16:block4_conv1 1 (1.16529, 170.776, 0.10369873046875)\n"
     ]
    },
    {
     "name": "stderr",
     "output_type": "stream",
     "text": [
      "[15:16:26] /home/max/tvm/src/runtime/graph_executor/debug/graph_executor_debug.cc:103: Iteration: 0\n",
      "[15:16:26] /home/max/tvm/src/runtime/graph_executor/debug/graph_executor_debug.cc:108: Op #0 tvmgen_default_fused_nn_conv2d: 6906.1 us/iter\n",
      "[15:16:28] /home/max/tvm/src/runtime/graph_executor/debug/graph_executor_debug.cc:103: Iteration: 1\n",
      "[15:16:28] /home/max/tvm/src/runtime/graph_executor/debug/graph_executor_debug.cc:108: Op #0 tvmgen_default_fused_nn_conv2d: 6907.8 us/iter\n",
      "[15:16:29] /home/max/tvm/src/runtime/graph_executor/debug/graph_executor_debug.cc:103: Iteration: 2\n",
      "[15:16:29] /home/max/tvm/src/runtime/graph_executor/debug/graph_executor_debug.cc:108: Op #0 tvmgen_default_fused_nn_conv2d: 6915.26 us/iter\n"
     ]
    },
    {
     "name": "stdout",
     "output_type": "stream",
     "text": [
      "vgg16:block4_conv1 8 (6.91526, 201.657, 0.11773681640625)\n"
     ]
    },
    {
     "name": "stderr",
     "output_type": "stream",
     "text": [
      "[15:16:40] /home/max/tvm/src/runtime/graph_executor/debug/graph_executor_debug.cc:103: Iteration: 0\n",
      "[15:16:40] /home/max/tvm/src/runtime/graph_executor/debug/graph_executor_debug.cc:108: Op #0 tvmgen_default_fused_nn_conv2d: 13712 us/iter\n",
      "[15:16:41] /home/max/tvm/src/runtime/graph_executor/debug/graph_executor_debug.cc:103: Iteration: 1\n",
      "[15:16:41] /home/max/tvm/src/runtime/graph_executor/debug/graph_executor_debug.cc:108: Op #0 tvmgen_default_fused_nn_conv2d: 13712.8 us/iter\n",
      "[15:16:43] /home/max/tvm/src/runtime/graph_executor/debug/graph_executor_debug.cc:103: Iteration: 2\n",
      "[15:16:43] /home/max/tvm/src/runtime/graph_executor/debug/graph_executor_debug.cc:108: Op #0 tvmgen_default_fused_nn_conv2d: 13726.5 us/iter\n"
     ]
    },
    {
     "name": "stdout",
     "output_type": "stream",
     "text": [
      "vgg16:block4_conv1 16 (13.726500000000001, 203.152, 0.13397216796875)\n"
     ]
    },
    {
     "name": "stderr",
     "output_type": "stream",
     "text": [
      "[15:16:54] /home/max/tvm/src/runtime/graph_executor/debug/graph_executor_debug.cc:103: Iteration: 0\n",
      "[15:16:54] /home/max/tvm/src/runtime/graph_executor/debug/graph_executor_debug.cc:108: Op #0 tvmgen_default_fused_nn_conv2d: 27213.8 us/iter\n",
      "[15:16:56] /home/max/tvm/src/runtime/graph_executor/debug/graph_executor_debug.cc:103: Iteration: 1\n",
      "[15:16:56] /home/max/tvm/src/runtime/graph_executor/debug/graph_executor_debug.cc:108: Op #0 tvmgen_default_fused_nn_conv2d: 27211.5 us/iter\n",
      "[15:16:57] /home/max/tvm/src/runtime/graph_executor/debug/graph_executor_debug.cc:103: Iteration: 2\n",
      "[15:16:57] /home/max/tvm/src/runtime/graph_executor/debug/graph_executor_debug.cc:108: Op #0 tvmgen_default_fused_nn_conv2d: 27229.3 us/iter\n"
     ]
    },
    {
     "name": "stdout",
     "output_type": "stream",
     "text": [
      "vgg16:block4_conv1 32 (27.229300000000002, 205.544, 0.16656494140625)\n"
     ]
    },
    {
     "name": "stderr",
     "output_type": "stream",
     "text": [
      "[15:17:09] /home/max/tvm/src/runtime/graph_executor/debug/graph_executor_debug.cc:103: Iteration: 0\n",
      "[15:17:09] /home/max/tvm/src/runtime/graph_executor/debug/graph_executor_debug.cc:108: Op #0 tvmgen_default_fused_nn_conv2d: 53515.9 us/iter\n",
      "[15:17:11] /home/max/tvm/src/runtime/graph_executor/debug/graph_executor_debug.cc:103: Iteration: 1\n",
      "[15:17:11] /home/max/tvm/src/runtime/graph_executor/debug/graph_executor_debug.cc:108: Op #0 tvmgen_default_fused_nn_conv2d: 53558.2 us/iter\n",
      "[15:17:12] /home/max/tvm/src/runtime/graph_executor/debug/graph_executor_debug.cc:103: Iteration: 2\n",
      "[15:17:12] /home/max/tvm/src/runtime/graph_executor/debug/graph_executor_debug.cc:108: Op #0 tvmgen_default_fused_nn_conv2d: 53573.4 us/iter\n"
     ]
    },
    {
     "name": "stdout",
     "output_type": "stream",
     "text": [
      "vgg16:block4_conv1 64 (53.5734, 208.248, 0.23175048828125)\n"
     ]
    },
    {
     "name": "stderr",
     "output_type": "stream",
     "text": [
      "[15:17:24] /home/max/tvm/src/runtime/graph_executor/debug/graph_executor_debug.cc:103: Iteration: 0\n",
      "[15:17:24] /home/max/tvm/src/runtime/graph_executor/debug/graph_executor_debug.cc:108: Op #0 tvmgen_default_fused_nn_conv2d: 106423 us/iter\n",
      "[15:17:25] /home/max/tvm/src/runtime/graph_executor/debug/graph_executor_debug.cc:103: Iteration: 1\n",
      "[15:17:25] /home/max/tvm/src/runtime/graph_executor/debug/graph_executor_debug.cc:108: Op #0 tvmgen_default_fused_nn_conv2d: 106415 us/iter\n",
      "[15:17:26] /home/max/tvm/src/runtime/graph_executor/debug/graph_executor_debug.cc:103: Iteration: 2\n",
      "[15:17:26] /home/max/tvm/src/runtime/graph_executor/debug/graph_executor_debug.cc:108: Op #0 tvmgen_default_fused_nn_conv2d: 106473 us/iter\n"
     ]
    },
    {
     "name": "stdout",
     "output_type": "stream",
     "text": [
      "vgg16:block4_conv1 128 (106.473, 210.427, 0.36212158203125)\n",
      "[None, 28, 28, 512]\n"
     ]
    },
    {
     "name": "stderr",
     "output_type": "stream",
     "text": [
      "[15:17:41] /home/max/tvm/src/runtime/graph_executor/debug/graph_executor_debug.cc:103: Iteration: 0\n",
      "[15:17:41] /home/max/tvm/src/runtime/graph_executor/debug/graph_executor_debug.cc:108: Op #0 tvmgen_default_fused_nn_conv2d: 2385.41 us/iter\n",
      "[15:17:42] /home/max/tvm/src/runtime/graph_executor/debug/graph_executor_debug.cc:103: Iteration: 1\n",
      "[15:17:42] /home/max/tvm/src/runtime/graph_executor/debug/graph_executor_debug.cc:108: Op #0 tvmgen_default_fused_nn_conv2d: 2385.21 us/iter\n",
      "[15:17:44] /home/max/tvm/src/runtime/graph_executor/debug/graph_executor_debug.cc:103: Iteration: 2\n",
      "[15:17:44] /home/max/tvm/src/runtime/graph_executor/debug/graph_executor_debug.cc:108: Op #0 tvmgen_default_fused_nn_conv2d: 2385.41 us/iter\n"
     ]
    },
    {
     "name": "stdout",
     "output_type": "stream",
     "text": [
      "vgg16:block4_conv2 1 (2.3854100000000003, 223.396, 0.10870361328125)\n"
     ]
    },
    {
     "name": "stderr",
     "output_type": "stream",
     "text": [
      "[15:17:54] /home/max/tvm/src/runtime/graph_executor/debug/graph_executor_debug.cc:103: Iteration: 0\n",
      "[15:17:54] /home/max/tvm/src/runtime/graph_executor/debug/graph_executor_debug.cc:108: Op #0 tvmgen_default_fused_nn_conv2d: 18120.1 us/iter\n",
      "[15:17:55] /home/max/tvm/src/runtime/graph_executor/debug/graph_executor_debug.cc:103: Iteration: 1\n",
      "[15:17:55] /home/max/tvm/src/runtime/graph_executor/debug/graph_executor_debug.cc:108: Op #0 tvmgen_default_fused_nn_conv2d: 18117.8 us/iter\n",
      "[15:17:57] /home/max/tvm/src/runtime/graph_executor/debug/graph_executor_debug.cc:103: Iteration: 2\n",
      "[15:17:57] /home/max/tvm/src/runtime/graph_executor/debug/graph_executor_debug.cc:108: Op #0 tvmgen_default_fused_nn_conv2d: 18116.2 us/iter\n"
     ]
    },
    {
     "name": "stdout",
     "output_type": "stream",
     "text": [
      "vgg16:block4_conv2 8 (18.1162, 222.868, 0.12811279296875)\n"
     ]
    },
    {
     "name": "stderr",
     "output_type": "stream",
     "text": [
      "[15:18:08] /home/max/tvm/src/runtime/graph_executor/debug/graph_executor_debug.cc:103: Iteration: 0\n",
      "[15:18:08] /home/max/tvm/src/runtime/graph_executor/debug/graph_executor_debug.cc:108: Op #0 tvmgen_default_fused_nn_conv2d: 36177.4 us/iter\n",
      "[15:18:10] /home/max/tvm/src/runtime/graph_executor/debug/graph_executor_debug.cc:103: Iteration: 1\n",
      "[15:18:10] /home/max/tvm/src/runtime/graph_executor/debug/graph_executor_debug.cc:108: Op #0 tvmgen_default_fused_nn_conv2d: 36179.4 us/iter\n",
      "[15:18:11] /home/max/tvm/src/runtime/graph_executor/debug/graph_executor_debug.cc:103: Iteration: 2\n",
      "[15:18:11] /home/max/tvm/src/runtime/graph_executor/debug/graph_executor_debug.cc:108: Op #0 tvmgen_default_fused_nn_conv2d: 36191.3 us/iter\n"
     ]
    },
    {
     "name": "stdout",
     "output_type": "stream",
     "text": [
      "vgg16:block4_conv2 16 (36.191300000000005, 222.819, 0.15032958984375)\n"
     ]
    },
    {
     "name": "stderr",
     "output_type": "stream",
     "text": [
      "[15:18:23] /home/max/tvm/src/runtime/graph_executor/debug/graph_executor_debug.cc:103: Iteration: 0\n",
      "[15:18:23] /home/max/tvm/src/runtime/graph_executor/debug/graph_executor_debug.cc:108: Op #0 tvmgen_default_fused_nn_conv2d: 72248.2 us/iter\n",
      "[15:18:24] /home/max/tvm/src/runtime/graph_executor/debug/graph_executor_debug.cc:103: Iteration: 1\n",
      "[15:18:24] /home/max/tvm/src/runtime/graph_executor/debug/graph_executor_debug.cc:108: Op #0 tvmgen_default_fused_nn_conv2d: 72267.6 us/iter\n",
      "[15:18:25] /home/max/tvm/src/runtime/graph_executor/debug/graph_executor_debug.cc:103: Iteration: 2\n",
      "[15:18:25] /home/max/tvm/src/runtime/graph_executor/debug/graph_executor_debug.cc:108: Op #0 tvmgen_default_fused_nn_conv2d: 72261.3 us/iter\n"
     ]
    },
    {
     "name": "stdout",
     "output_type": "stream",
     "text": [
      "vgg16:block4_conv2 32 (72.2613, 223.009, 0.19488525390625)\n"
     ]
    },
    {
     "name": "stderr",
     "output_type": "stream",
     "text": [
      "[15:18:37] /home/max/tvm/src/runtime/graph_executor/debug/graph_executor_debug.cc:103: Iteration: 0\n",
      "[15:18:37] /home/max/tvm/src/runtime/graph_executor/debug/graph_executor_debug.cc:108: Op #0 tvmgen_default_fused_nn_conv2d: 143765 us/iter\n",
      "[15:18:39] /home/max/tvm/src/runtime/graph_executor/debug/graph_executor_debug.cc:103: Iteration: 1\n",
      "[15:18:39] /home/max/tvm/src/runtime/graph_executor/debug/graph_executor_debug.cc:108: Op #0 tvmgen_default_fused_nn_conv2d: 143781 us/iter\n",
      "[15:18:40] /home/max/tvm/src/runtime/graph_executor/debug/graph_executor_debug.cc:103: Iteration: 2\n",
      "[15:18:40] /home/max/tvm/src/runtime/graph_executor/debug/graph_executor_debug.cc:108: Op #0 tvmgen_default_fused_nn_conv2d: 143801 us/iter\n"
     ]
    },
    {
     "name": "stdout",
     "output_type": "stream",
     "text": [
      "vgg16:block4_conv2 64 (143.80100000000002, 226.043, 0.28399658203125)\n"
     ]
    },
    {
     "name": "stderr",
     "output_type": "stream",
     "text": [
      "[15:18:58] /home/max/tvm/src/runtime/graph_executor/debug/graph_executor_debug.cc:103: Iteration: 0\n",
      "[15:18:58] /home/max/tvm/src/runtime/graph_executor/debug/graph_executor_debug.cc:108: Op #0 tvmgen_default_fused_nn_conv2d: 287220 us/iter\n",
      "[15:19:01] /home/max/tvm/src/runtime/graph_executor/debug/graph_executor_debug.cc:103: Iteration: 1\n",
      "[15:19:01] /home/max/tvm/src/runtime/graph_executor/debug/graph_executor_debug.cc:108: Op #0 tvmgen_default_fused_nn_conv2d: 287232 us/iter\n",
      "[15:19:03] /home/max/tvm/src/runtime/graph_executor/debug/graph_executor_debug.cc:103: Iteration: 2\n",
      "[15:19:03] /home/max/tvm/src/runtime/graph_executor/debug/graph_executor_debug.cc:108: Op #0 tvmgen_default_fused_nn_conv2d: 287176 us/iter\n"
     ]
    },
    {
     "name": "stdout",
     "output_type": "stream",
     "text": [
      "vgg16:block4_conv2 128 (287.176, 226.697, 0.46221923828125)\n",
      "[None, 28, 28, 512]\n"
     ]
    },
    {
     "name": "stderr",
     "output_type": "stream",
     "text": [
      "[15:19:25] /home/max/tvm/src/runtime/graph_executor/debug/graph_executor_debug.cc:103: Iteration: 0\n",
      "[15:19:25] /home/max/tvm/src/runtime/graph_executor/debug/graph_executor_debug.cc:108: Op #0 tvmgen_default_fused_nn_conv2d: 2395.14 us/iter\n",
      "[15:19:26] /home/max/tvm/src/runtime/graph_executor/debug/graph_executor_debug.cc:103: Iteration: 1\n",
      "[15:19:26] /home/max/tvm/src/runtime/graph_executor/debug/graph_executor_debug.cc:108: Op #0 tvmgen_default_fused_nn_conv2d: 2395.21 us/iter\n",
      "[15:19:28] /home/max/tvm/src/runtime/graph_executor/debug/graph_executor_debug.cc:103: Iteration: 2\n",
      "[15:19:28] /home/max/tvm/src/runtime/graph_executor/debug/graph_executor_debug.cc:108: Op #0 tvmgen_default_fused_nn_conv2d: 2396.61 us/iter\n"
     ]
    },
    {
     "name": "stdout",
     "output_type": "stream",
     "text": [
      "failed power measurement\n",
      "[None, 14, 14, 512]\n"
     ]
    }
   ],
   "source": [
    "measurements = {}\n",
    "data_layout = \"NCHW\"\n",
    "kernel_layout = \"OIHW\"\n",
    "\n",
    "for name, config in configs.items():\n",
    "    print(config[\"output shape\"])\n",
    "    \n",
    "    for batch_size in [1, 8, 16, 32, 64, 128]:\n",
    "        file = \"dataset/\"+target_class+\"_\"+device+\"_\"+name.replace(\":\", \"-\")+\"_\"+str(batch_size)+\".json\"\n",
    "        if os.path.exists(file):\n",
    "            print(\"already profiled\")\n",
    "            break\n",
    "        required = int(np.prod(config[\"input shape\"][1::])*batch_size)\n",
    "        inp_shape = (\n",
    "            int(batch_size),\n",
    "            int(config[\"input shape\"][3]),\n",
    "            int(config[\"input shape\"][2]),\n",
    "            int(config[\"input shape\"][1]),\n",
    "        )\n",
    "        \n",
    "        rand_data = np.random.rand(int(np.ceil(required/repeat)))\n",
    "        inp_data = np.repeat(rand_data, repeat)[:required].reshape(inp_shape).astype(\"float32\")\n",
    "        \n",
    "        weight_shape = (\n",
    "            int(config[\"output shape\"][3]),\n",
    "            int(config[\"input shape\"][3]),\n",
    "            int(config[\"kernel\"][0]),\n",
    "            int(config[\"kernel\"][1])\n",
    "        )\n",
    "        \n",
    "        required = int(config[\"output shape\"][3]) * int(config[\"input shape\"][3] / config[\"groups\"]) * int(config[\"kernel\"][0]) * int(config[\"kernel\"][1])\n",
    "        rand_data = np.random.rand(int(np.ceil(required/repeat)))\n",
    "        weight_data = np.repeat(rand_data, repeat)[:required].reshape(weight_shape).astype(\"float32\")\n",
    "\n",
    "        x = tvm.relay.var(\"data\", tvm.relay.TensorType(inp_shape), dtype=\"float32\")\n",
    "        y = tvm.relay.Constant(tvm.nd.array(weight_data))\n",
    "        \n",
    "        try:\n",
    "            expr = conv2d(\n",
    "                data = x,\n",
    "                weight= y,\n",
    "                strides=int(config[\"strides\"][0]),\n",
    "                padding=0,\n",
    "                dilation=int(config[\"dilation\"][0]),\n",
    "                groups=int(config[\"groups\"]),\n",
    "                channels=int(config[\"output shape\"][3]),\n",
    "                kernel_size=int(config[\"kernel\"][0]),\n",
    "                data_layout=data_layout,\n",
    "                kernel_layout=kernel_layout,\n",
    "            )\n",
    "\n",
    "            mod = tvm.ir.IRModule.from_expr(expr)\n",
    "            params = {}\n",
    "            with tvm.transform.PassContext(opt_level=3):\n",
    "                compiled_graph_lib = tvm.relay.build_module.build(mod, target_class, params=params)\n",
    "        except:\n",
    "            print(\"compile failed\")\n",
    "            break\n",
    "            \n",
    "        try:\n",
    "            debug_g_mod = graph_runtime.GraphModuleDebug(\n",
    "                compiled_graph_lib[\"debug_create\"](\"default\", dev),\n",
    "                [dev],\n",
    "                compiled_graph_lib.get_graph_json(),\n",
    "                \".\"\n",
    "            )\n",
    "        except:\n",
    "            print(\"runtime construction failed\")\n",
    "            break\n",
    "        \n",
    "        try:\n",
    "            t_start  = time.monotonic()\n",
    "            times = debug_g_mod.run_individual(10, 3, 1000)\n",
    "            t_end = time.monotonic()\n",
    "        except:\n",
    "            print(\"execution time measurement failed\")\n",
    "            break\n",
    "            \n",
    "        for idx, node in enumerate(debug_g_mod.debug_datum._nodes_list):\n",
    "            if layer_name in node[\"op\"]:\n",
    "                layer_time = float(times[idx])*1000\n",
    "                actual_layer_name = node[\"op\"]\n",
    "                \n",
    "        runs = int(max(1, np.ceil(time_min_res / (layer_time/1000))))\n",
    "\n",
    "        # determine the noise\n",
    "        iterations = 10\n",
    "        powers = []\n",
    "        gpu_utils = []\n",
    "        mem_utils = []\n",
    "        gpu_clocks = []\n",
    "        sm_clocks = []\n",
    "        mem_clocks = []\n",
    "        alloc_memory = []\n",
    "        profile_times = []\n",
    "                \n",
    "        try:\n",
    "            t_burn_in = 5\n",
    "            t_start = time.monotonic()\n",
    "            t_end = t_start + t_burn_in\n",
    "            while time.monotonic() < t_end:\n",
    "                # run debug runtime without profiling as burn in\n",
    "                with suppress_stdout():\n",
    "                    test_data = debug_g_mod.profile(collectors=[], data=tvm.nd.array(inp_data.astype(\"float32\")), runs=runs)\n",
    "\n",
    "            p_start = time.monotonic()\n",
    "            for r in range(0, iterations):        \n",
    "                # reload the Metric Collector due to issues with the PAPI backend\n",
    "                data_collector = tvm.runtime.profiling.PAPIMetricCollector({dev: metrics}, component=\"nvml\")    \n",
    "\n",
    "                # run debug runtime with time measurements only\n",
    "                #with suppress_stdout():\n",
    "                test_data = debug_g_mod.profile(collectors=[data_collector], data=tvm.nd.array(inp_data.astype(\"float32\")), runs=runs)\n",
    "                pstate = nv.nvmlDeviceGetPowerState(handle)\n",
    "                #print(\"\\r\",(r+1),\"PState:\", pstate, end=\"\")\n",
    "\n",
    "                # extract measurement of current run\n",
    "                powers.append(test_data.calls[0][metrics[0]].value)\n",
    "                gpu_utils.append(test_data.calls[0][metrics[1]].value)\n",
    "                mem_utils.append(test_data.calls[0][metrics[2]].value)\n",
    "                gpu_clocks.append(test_data.calls[0][metrics[3]].value)\n",
    "                sm_clocks.append(test_data.calls[0][metrics[4]].value)\n",
    "                mem_clocks.append(test_data.calls[0][metrics[5]].value)\n",
    "                alloc_memory.append(test_data.calls[0][metrics[6]].value)\n",
    "                profile_times.append(test_data.calls[0][\"Duration (us)\"].microseconds/1000000/runs) # in seconds\n",
    "                #time.sleep(1)\n",
    "\n",
    "            p_delta = time.monotonic() - p_start\n",
    "            avg_power = np.mean(powers)/1000\n",
    "            max_power = np.max(powers)/1000\n",
    "            min_power = np.min(powers)/1000\n",
    "            std_power = np.std(powers)/1000\n",
    "            #calculate Z-Score\n",
    "            z_scores = ((np.array(powers)/1000) - avg_power)/std_power\n",
    "            cleaned_powers = []\n",
    "            threshold = 0.25\n",
    "            while len(cleaned_powers) < 3:\n",
    "                cleaned_powers = []\n",
    "                threshold += 0.05\n",
    "                for idx, score in enumerate(z_scores):\n",
    "                    if abs(score) < threshold:\n",
    "                        cleaned_powers.append(powers[idx]/1000)\n",
    "\n",
    "            layer_power = np.median(cleaned_powers)\n",
    "            layer_memory = np.median(alloc_memory)/(1024**3)\n",
    "\n",
    "            #print()\n",
    "            measurements[name+\"_\"+str(batch_size)] = (layer_time, layer_power, layer_memory)\n",
    "            print(name, batch_size, (layer_time, layer_power, layer_memory))\n",
    "        except:\n",
    "            print(\"failed power measurement\")\n",
    "            break\n",
    "            \n",
    "        config[\"data layout\"] = data_layout\n",
    "        config[\"kernel layout\"] = kernel_layout\n",
    "        config[\"batch_size\"] = batch_size\n",
    "\n",
    "        json_text = json.dumps(config)\n",
    "        with open(file, \"w\") as file:\n",
    "            file.write(json_text)\n",
    "            #print()\n",
    "        \n",
    "            #measurements[state] = (-1, -1, -1)\n",
    "            "
   ]
  },
  {
   "cell_type": "code",
   "execution_count": null,
   "id": "14f3fcbb-f098-463b-87ed-325e74cd7a2e",
   "metadata": {},
   "outputs": [],
   "source": [
    "measurements"
   ]
  },
  {
   "cell_type": "code",
   "execution_count": null,
   "id": "a959bf6d-abc6-42f4-9ef2-3270df601c40",
   "metadata": {},
   "outputs": [],
   "source": []
  }
 ],
 "metadata": {
  "kernelspec": {
   "display_name": "Python 3 (ipykernel)",
   "language": "python",
   "name": "python3"
  },
  "language_info": {
   "codemirror_mode": {
    "name": "ipython",
    "version": 3
   },
   "file_extension": ".py",
   "mimetype": "text/x-python",
   "name": "python",
   "nbconvert_exporter": "python",
   "pygments_lexer": "ipython3",
   "version": "3.8.10"
  }
 },
 "nbformat": 4,
 "nbformat_minor": 5
}
