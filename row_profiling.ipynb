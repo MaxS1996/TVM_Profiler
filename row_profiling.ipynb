{
 "cells": [
  {
   "cell_type": "code",
   "execution_count": 1,
   "metadata": {},
   "outputs": [],
   "source": [
    "# IMPORTS from tvm, different required packages and the profiling infrastructure\n",
    "\n",
    "from numpy.core.numeric import full\n",
    "import tvm\n",
    "from tvm.contrib import utils, graph_executor as runtime\n",
    "from tvm.relay.op.nn.nn import dense, dilate, conv2d\n",
    "#####\n",
    "import numpy as np\n",
    "import pynvml as nv\n",
    "from func_timeout import func_timeout\n",
    "import time\n",
    "import psutil\n",
    "\n",
    "#####\n",
    "from components import description_vector as dv\n",
    "from components import serializer\n",
    "from components import profiling"
   ]
  },
  {
   "cell_type": "code",
   "execution_count": 2,
   "metadata": {},
   "outputs": [],
   "source": [
    "# set default figure size\n",
    "import matplotlib.pyplot as plt\n",
    "\n",
    "plt.rcParams[\"figure.figsize\"] = (20, 10)"
   ]
  },
  {
   "cell_type": "code",
   "execution_count": 3,
   "metadata": {},
   "outputs": [],
   "source": [
    "# helpful to suppress output of debug runtime run function\n",
    "from contextlib import contextmanager\n",
    "import sys, os\n",
    "\n",
    "@contextmanager\n",
    "def suppress_stdout():\n",
    "    with open(os.devnull, \"w\") as devnull:\n",
    "        old_stdout = sys.stdout\n",
    "        sys.stdout = devnull\n",
    "        try:  \n",
    "            yield\n",
    "        finally:\n",
    "            sys.stdout = old_stdout"
   ]
  },
  {
   "cell_type": "code",
   "execution_count": 4,
   "metadata": {},
   "outputs": [
    {
     "name": "stdout",
     "output_type": "stream",
     "text": [
      "['nvml:::NVIDIA_GeForce_GTX_980_Ti:device_1:power']\n"
     ]
    }
   ],
   "source": [
    "# defining important variables for the profiling system\n",
    "\n",
    "target = \"cuda\"\n",
    "target_class = \"cuda\"\n",
    "\n",
    "device = \"980ti\"\n",
    "dev_idx = 1\n",
    "dev = tvm.device(str(\"cuda\"), dev_idx)\n",
    "time_min_res = 0.2\n",
    "\n",
    "\n",
    "state_path = \"./states\"\n",
    "state_file = \"state\"\n",
    "\n",
    "layer_name = \"conv2d\"\n",
    "\n",
    "metrics = profiling.get_metrics(target, device, backend=\"nvml\", dev_idx=dev_idx)\n",
    "print(metrics)"
   ]
  },
  {
   "cell_type": "code",
   "execution_count": 5,
   "metadata": {},
   "outputs": [],
   "source": [
    "nv.nvmlInit()\n",
    "handle = nv.nvmlDeviceGetHandleByIndex(0)\n",
    "\n",
    "#metrics.append(\"nvml:::NVIDIA_GeForce_GTX_980_Ti:device_1:pstate\") #unable to read using TVM PAPI Profiler due to limitation to integer data\n",
    "metrics.append(\"nvml:::NVIDIA_GeForce_GTX_980_Ti:device_\"+str(dev_idx)+\":gpu_utilization\")\n",
    "metrics.append(\"nvml:::NVIDIA_GeForce_GTX_980_Ti:device_\"+str(dev_idx)+\":memory_utilization\")\n",
    "metrics.append(\"nvml:::NVIDIA_GeForce_GTX_980_Ti:device_\"+str(dev_idx)+\":graphics_clock\")\n",
    "metrics.append(\"nvml:::NVIDIA_GeForce_GTX_980_Ti:device_\"+str(dev_idx)+\":sm_clock\")\n",
    "metrics.append(\"nvml:::NVIDIA_GeForce_GTX_980_Ti:device_\"+str(dev_idx)+\":memory_clock\")\n",
    "metrics.append(\"nvml:::NVIDIA_GeForce_GTX_980_Ti:device_\"+str(dev_idx)+\":allocated_memory\")"
   ]
  },
  {
   "cell_type": "code",
   "execution_count": 6,
   "metadata": {},
   "outputs": [],
   "source": [
    "config = {}\n",
    "config[\"n\"] = 1\n",
    "config[\"h\"] = 225\n",
    "config[\"w\"] = 225\n",
    "config[\"c\"] = 3\n",
    "config[\"pad\"] = 0\n",
    "config[\"dilation\"] = 1\n",
    "config[\"kernel\"] = 3\n",
    "config[\"strides\"] = 1\n",
    "config[\"grps\"] = 1\n",
    "config[\"channels\"] = 32"
   ]
  },
  {
   "cell_type": "code",
   "execution_count": 7,
   "metadata": {},
   "outputs": [
    {
     "name": "stderr",
     "output_type": "stream",
     "text": [
      "One or more operators have not been tuned. Please tune your model for better performance. Use DEBUG logging level to see more details.\n",
      "[09:57:30] /home/max/tvm/src/runtime/graph_executor/debug/graph_executor_debug.cc:103: Iteration: 0\n",
      "[09:57:30] /home/max/tvm/src/runtime/graph_executor/debug/graph_executor_debug.cc:108: Op #0 tvmgen_default_fused_nn_conv2d: 45.96 us/iter\n",
      "[09:57:31] /home/max/tvm/src/runtime/graph_executor/debug/graph_executor_debug.cc:103: Iteration: 1\n",
      "[09:57:31] /home/max/tvm/src/runtime/graph_executor/debug/graph_executor_debug.cc:108: Op #0 tvmgen_default_fused_nn_conv2d: 46.2885 us/iter\n",
      "[09:57:33] /home/max/tvm/src/runtime/graph_executor/debug/graph_executor_debug.cc:103: Iteration: 2\n",
      "[09:57:33] /home/max/tvm/src/runtime/graph_executor/debug/graph_executor_debug.cc:108: Op #0 tvmgen_default_fused_nn_conv2d: 46.2919 us/iter\n"
     ]
    },
    {
     "name": "stdout",
     "output_type": "stream",
     "text": [
      "1 (0.046291900000000004, 177.265, 0.10357666015625)\n"
     ]
    },
    {
     "name": "stderr",
     "output_type": "stream",
     "text": [
      "[09:57:45] /home/max/tvm/src/runtime/graph_executor/debug/graph_executor_debug.cc:103: Iteration: 0\n",
      "[09:57:45] /home/max/tvm/src/runtime/graph_executor/debug/graph_executor_debug.cc:108: Op #0 tvmgen_default_fused_nn_conv2d: 40.3228 us/iter\n",
      "[09:57:46] /home/max/tvm/src/runtime/graph_executor/debug/graph_executor_debug.cc:103: Iteration: 1\n",
      "[09:57:46] /home/max/tvm/src/runtime/graph_executor/debug/graph_executor_debug.cc:108: Op #0 tvmgen_default_fused_nn_conv2d: 40.2983 us/iter\n",
      "[09:57:47] /home/max/tvm/src/runtime/graph_executor/debug/graph_executor_debug.cc:103: Iteration: 2\n",
      "[09:57:47] /home/max/tvm/src/runtime/graph_executor/debug/graph_executor_debug.cc:108: Op #0 tvmgen_default_fused_nn_conv2d: 40.2934 us/iter\n"
     ]
    },
    {
     "name": "stdout",
     "output_type": "stream",
     "text": [
      "2 (0.0402934, 185.077, 0.10443115234375)\n"
     ]
    },
    {
     "name": "stderr",
     "output_type": "stream",
     "text": [
      "[09:57:59] /home/max/tvm/src/runtime/graph_executor/debug/graph_executor_debug.cc:103: Iteration: 0\n",
      "[09:57:59] /home/max/tvm/src/runtime/graph_executor/debug/graph_executor_debug.cc:108: Op #0 tvmgen_default_fused_nn_conv2d: 599.992 us/iter\n",
      "[09:58:01] /home/max/tvm/src/runtime/graph_executor/debug/graph_executor_debug.cc:103: Iteration: 1\n",
      "[09:58:01] /home/max/tvm/src/runtime/graph_executor/debug/graph_executor_debug.cc:108: Op #0 tvmgen_default_fused_nn_conv2d: 599.094 us/iter\n",
      "[09:58:02] /home/max/tvm/src/runtime/graph_executor/debug/graph_executor_debug.cc:103: Iteration: 2\n",
      "[09:58:02] /home/max/tvm/src/runtime/graph_executor/debug/graph_executor_debug.cc:108: Op #0 tvmgen_default_fused_nn_conv2d: 599.143 us/iter\n"
     ]
    },
    {
     "name": "stdout",
     "output_type": "stream",
     "text": [
      "3 (0.599143, 181.259, 0.10345458984375)\n"
     ]
    },
    {
     "name": "stderr",
     "output_type": "stream",
     "text": [
      "[09:58:14] /home/max/tvm/src/runtime/graph_executor/debug/graph_executor_debug.cc:103: Iteration: 0\n",
      "[09:58:14] /home/max/tvm/src/runtime/graph_executor/debug/graph_executor_debug.cc:108: Op #0 tvmgen_default_fused_nn_conv2d: 157.121 us/iter\n",
      "[09:58:16] /home/max/tvm/src/runtime/graph_executor/debug/graph_executor_debug.cc:103: Iteration: 1\n",
      "[09:58:16] /home/max/tvm/src/runtime/graph_executor/debug/graph_executor_debug.cc:108: Op #0 tvmgen_default_fused_nn_conv2d: 157.071 us/iter\n",
      "[09:58:17] /home/max/tvm/src/runtime/graph_executor/debug/graph_executor_debug.cc:103: Iteration: 2\n",
      "[09:58:17] /home/max/tvm/src/runtime/graph_executor/debug/graph_executor_debug.cc:108: Op #0 tvmgen_default_fused_nn_conv2d: 157.107 us/iter\n"
     ]
    },
    {
     "name": "stdout",
     "output_type": "stream",
     "text": [
      "4 (0.157107, 198.5815, 0.10443115234375)\n"
     ]
    },
    {
     "name": "stderr",
     "output_type": "stream",
     "text": [
      "[09:58:30] /home/max/tvm/src/runtime/graph_executor/debug/graph_executor_debug.cc:103: Iteration: 0\n",
      "[09:58:30] /home/max/tvm/src/runtime/graph_executor/debug/graph_executor_debug.cc:108: Op #0 tvmgen_default_fused_nn_conv2d: 304.95 us/iter\n",
      "[09:58:31] /home/max/tvm/src/runtime/graph_executor/debug/graph_executor_debug.cc:103: Iteration: 1\n",
      "[09:58:31] /home/max/tvm/src/runtime/graph_executor/debug/graph_executor_debug.cc:108: Op #0 tvmgen_default_fused_nn_conv2d: 305.006 us/iter\n",
      "[09:58:32] /home/max/tvm/src/runtime/graph_executor/debug/graph_executor_debug.cc:103: Iteration: 2\n",
      "[09:58:32] /home/max/tvm/src/runtime/graph_executor/debug/graph_executor_debug.cc:108: Op #0 tvmgen_default_fused_nn_conv2d: 304.958 us/iter\n"
     ]
    },
    {
     "name": "stdout",
     "output_type": "stream",
     "text": [
      "5 (0.30495799999999995, 194.036, 0.10333251953125)\n"
     ]
    },
    {
     "name": "stderr",
     "output_type": "stream",
     "text": [
      "[09:58:45] /home/max/tvm/src/runtime/graph_executor/debug/graph_executor_debug.cc:103: Iteration: 0\n",
      "[09:58:45] /home/max/tvm/src/runtime/graph_executor/debug/graph_executor_debug.cc:108: Op #0 tvmgen_default_fused_nn_conv2d: 124.792 us/iter\n",
      "[09:58:46] /home/max/tvm/src/runtime/graph_executor/debug/graph_executor_debug.cc:103: Iteration: 1\n",
      "[09:58:46] /home/max/tvm/src/runtime/graph_executor/debug/graph_executor_debug.cc:108: Op #0 tvmgen_default_fused_nn_conv2d: 124.81 us/iter\n",
      "[09:58:48] /home/max/tvm/src/runtime/graph_executor/debug/graph_executor_debug.cc:103: Iteration: 2\n",
      "[09:58:48] /home/max/tvm/src/runtime/graph_executor/debug/graph_executor_debug.cc:108: Op #0 tvmgen_default_fused_nn_conv2d: 124.892 us/iter\n"
     ]
    },
    {
     "name": "stdout",
     "output_type": "stream",
     "text": [
      "6 (0.124892, 247.178, 0.10430908203125)\n"
     ]
    },
    {
     "name": "stderr",
     "output_type": "stream",
     "text": [
      "[09:59:00] /home/max/tvm/src/runtime/graph_executor/debug/graph_executor_debug.cc:103: Iteration: 0\n",
      "[09:59:00] /home/max/tvm/src/runtime/graph_executor/debug/graph_executor_debug.cc:108: Op #0 tvmgen_default_fused_nn_conv2d: 1068.62 us/iter\n",
      "[09:59:01] /home/max/tvm/src/runtime/graph_executor/debug/graph_executor_debug.cc:103: Iteration: 1\n",
      "[09:59:01] /home/max/tvm/src/runtime/graph_executor/debug/graph_executor_debug.cc:108: Op #0 tvmgen_default_fused_nn_conv2d: 1068.65 us/iter\n",
      "[09:59:03] /home/max/tvm/src/runtime/graph_executor/debug/graph_executor_debug.cc:103: Iteration: 2\n",
      "[09:59:03] /home/max/tvm/src/runtime/graph_executor/debug/graph_executor_debug.cc:108: Op #0 tvmgen_default_fused_nn_conv2d: 1068.49 us/iter\n"
     ]
    },
    {
     "name": "stdout",
     "output_type": "stream",
     "text": [
      "7 (1.0684900000000002, 178.356, 0.10321044921875)\n"
     ]
    },
    {
     "name": "stderr",
     "output_type": "stream",
     "text": [
      "[09:59:15] /home/max/tvm/src/runtime/graph_executor/debug/graph_executor_debug.cc:103: Iteration: 0\n",
      "[09:59:15] /home/max/tvm/src/runtime/graph_executor/debug/graph_executor_debug.cc:108: Op #0 tvmgen_default_fused_nn_conv2d: 1444.46 us/iter\n",
      "[09:59:17] /home/max/tvm/src/runtime/graph_executor/debug/graph_executor_debug.cc:103: Iteration: 1\n",
      "[09:59:17] /home/max/tvm/src/runtime/graph_executor/debug/graph_executor_debug.cc:108: Op #0 tvmgen_default_fused_nn_conv2d: 1444.15 us/iter\n",
      "[09:59:18] /home/max/tvm/src/runtime/graph_executor/debug/graph_executor_debug.cc:103: Iteration: 2\n",
      "[09:59:18] /home/max/tvm/src/runtime/graph_executor/debug/graph_executor_debug.cc:108: Op #0 tvmgen_default_fused_nn_conv2d: 1444.31 us/iter\n"
     ]
    },
    {
     "name": "stdout",
     "output_type": "stream",
     "text": [
      "8 (1.44431, 164.648, 0.10418701171875)\n"
     ]
    },
    {
     "name": "stderr",
     "output_type": "stream",
     "text": [
      "[09:59:31] /home/max/tvm/src/runtime/graph_executor/debug/graph_executor_debug.cc:103: Iteration: 0\n",
      "[09:59:31] /home/max/tvm/src/runtime/graph_executor/debug/graph_executor_debug.cc:108: Op #0 tvmgen_default_fused_nn_conv2d: 1915.54 us/iter\n",
      "[09:59:32] /home/max/tvm/src/runtime/graph_executor/debug/graph_executor_debug.cc:103: Iteration: 1\n",
      "[09:59:32] /home/max/tvm/src/runtime/graph_executor/debug/graph_executor_debug.cc:108: Op #0 tvmgen_default_fused_nn_conv2d: 1915.52 us/iter\n",
      "[09:59:33] /home/max/tvm/src/runtime/graph_executor/debug/graph_executor_debug.cc:103: Iteration: 2\n",
      "[09:59:33] /home/max/tvm/src/runtime/graph_executor/debug/graph_executor_debug.cc:108: Op #0 tvmgen_default_fused_nn_conv2d: 1918.07 us/iter\n"
     ]
    },
    {
     "name": "stdout",
     "output_type": "stream",
     "text": [
      "9 (1.91807, 241.997, 0.10308837890625)\n"
     ]
    },
    {
     "name": "stderr",
     "output_type": "stream",
     "text": [
      "[09:59:46] /home/max/tvm/src/runtime/graph_executor/debug/graph_executor_debug.cc:103: Iteration: 0\n",
      "[09:59:46] /home/max/tvm/src/runtime/graph_executor/debug/graph_executor_debug.cc:108: Op #0 tvmgen_default_fused_nn_conv2d: 281.443 us/iter\n",
      "[09:59:47] /home/max/tvm/src/runtime/graph_executor/debug/graph_executor_debug.cc:103: Iteration: 1\n",
      "[09:59:47] /home/max/tvm/src/runtime/graph_executor/debug/graph_executor_debug.cc:108: Op #0 tvmgen_default_fused_nn_conv2d: 281.4 us/iter\n",
      "[09:59:49] /home/max/tvm/src/runtime/graph_executor/debug/graph_executor_debug.cc:103: Iteration: 2\n",
      "[09:59:49] /home/max/tvm/src/runtime/graph_executor/debug/graph_executor_debug.cc:108: Op #0 tvmgen_default_fused_nn_conv2d: 281.37 us/iter\n"
     ]
    },
    {
     "name": "stdout",
     "output_type": "stream",
     "text": [
      "10 (0.28137, 238.6515, 0.10406494140625)\n"
     ]
    },
    {
     "name": "stderr",
     "output_type": "stream",
     "text": [
      "[10:00:01] /home/max/tvm/src/runtime/graph_executor/debug/graph_executor_debug.cc:103: Iteration: 0\n",
      "[10:00:01] /home/max/tvm/src/runtime/graph_executor/debug/graph_executor_debug.cc:108: Op #0 tvmgen_default_fused_nn_conv2d: 2435 us/iter\n",
      "[10:00:03] /home/max/tvm/src/runtime/graph_executor/debug/graph_executor_debug.cc:103: Iteration: 1\n",
      "[10:00:03] /home/max/tvm/src/runtime/graph_executor/debug/graph_executor_debug.cc:108: Op #0 tvmgen_default_fused_nn_conv2d: 2431.91 us/iter\n",
      "[10:00:04] /home/max/tvm/src/runtime/graph_executor/debug/graph_executor_debug.cc:103: Iteration: 2\n",
      "[10:00:04] /home/max/tvm/src/runtime/graph_executor/debug/graph_executor_debug.cc:108: Op #0 tvmgen_default_fused_nn_conv2d: 2431.56 us/iter\n"
     ]
    },
    {
     "name": "stdout",
     "output_type": "stream",
     "text": [
      "11 (2.43156, 209.975, 0.10308837890625)\n"
     ]
    },
    {
     "name": "stderr",
     "output_type": "stream",
     "text": [
      "[10:00:16] /home/max/tvm/src/runtime/graph_executor/debug/graph_executor_debug.cc:103: Iteration: 0\n",
      "[10:00:16] /home/max/tvm/src/runtime/graph_executor/debug/graph_executor_debug.cc:108: Op #0 tvmgen_default_fused_nn_conv2d: 3365.57 us/iter\n",
      "[10:00:18] /home/max/tvm/src/runtime/graph_executor/debug/graph_executor_debug.cc:103: Iteration: 1\n",
      "[10:00:18] /home/max/tvm/src/runtime/graph_executor/debug/graph_executor_debug.cc:108: Op #0 tvmgen_default_fused_nn_conv2d: 3364.59 us/iter\n",
      "[10:00:19] /home/max/tvm/src/runtime/graph_executor/debug/graph_executor_debug.cc:103: Iteration: 2\n",
      "[10:00:19] /home/max/tvm/src/runtime/graph_executor/debug/graph_executor_debug.cc:108: Op #0 tvmgen_default_fused_nn_conv2d: 3364.89 us/iter\n"
     ]
    },
    {
     "name": "stdout",
     "output_type": "stream",
     "text": [
      "12 (3.36489, 240.476, 0.10394287109375)\n"
     ]
    },
    {
     "name": "stderr",
     "output_type": "stream",
     "text": [
      "[10:00:32] /home/max/tvm/src/runtime/graph_executor/debug/graph_executor_debug.cc:103: Iteration: 0\n",
      "[10:00:32] /home/max/tvm/src/runtime/graph_executor/debug/graph_executor_debug.cc:108: Op #0 tvmgen_default_fused_nn_conv2d: 5837.54 us/iter\n",
      "[10:00:33] /home/max/tvm/src/runtime/graph_executor/debug/graph_executor_debug.cc:103: Iteration: 1\n",
      "[10:00:33] /home/max/tvm/src/runtime/graph_executor/debug/graph_executor_debug.cc:108: Op #0 tvmgen_default_fused_nn_conv2d: 5839.96 us/iter\n",
      "[10:00:35] /home/max/tvm/src/runtime/graph_executor/debug/graph_executor_debug.cc:103: Iteration: 2\n",
      "[10:00:35] /home/max/tvm/src/runtime/graph_executor/debug/graph_executor_debug.cc:108: Op #0 tvmgen_default_fused_nn_conv2d: 5849.61 us/iter\n"
     ]
    },
    {
     "name": "stdout",
     "output_type": "stream",
     "text": [
      "13 (5.84961, 188.94, 0.10296630859375)\n"
     ]
    },
    {
     "name": "stderr",
     "output_type": "stream",
     "text": [
      "[10:00:48] /home/max/tvm/src/runtime/graph_executor/debug/graph_executor_debug.cc:103: Iteration: 0\n",
      "[10:00:48] /home/max/tvm/src/runtime/graph_executor/debug/graph_executor_debug.cc:108: Op #0 tvmgen_default_fused_nn_conv2d: 1395.99 us/iter\n",
      "[10:00:49] /home/max/tvm/src/runtime/graph_executor/debug/graph_executor_debug.cc:103: Iteration: 1\n",
      "[10:00:49] /home/max/tvm/src/runtime/graph_executor/debug/graph_executor_debug.cc:108: Op #0 tvmgen_default_fused_nn_conv2d: 1395.77 us/iter\n",
      "[10:00:51] /home/max/tvm/src/runtime/graph_executor/debug/graph_executor_debug.cc:103: Iteration: 2\n",
      "[10:00:51] /home/max/tvm/src/runtime/graph_executor/debug/graph_executor_debug.cc:108: Op #0 tvmgen_default_fused_nn_conv2d: 1396.01 us/iter\n"
     ]
    },
    {
     "name": "stdout",
     "output_type": "stream",
     "text": [
      "14 (1.39601, 214.759, 0.10382080078125)\n"
     ]
    },
    {
     "name": "stderr",
     "output_type": "stream",
     "text": [
      "[10:01:03] /home/max/tvm/src/runtime/graph_executor/debug/graph_executor_debug.cc:103: Iteration: 0\n",
      "[10:01:03] /home/max/tvm/src/runtime/graph_executor/debug/graph_executor_debug.cc:108: Op #0 tvmgen_default_fused_nn_conv2d: 73528.4 us/iter\n",
      "[10:01:04] /home/max/tvm/src/runtime/graph_executor/debug/graph_executor_debug.cc:103: Iteration: 1\n",
      "[10:01:04] /home/max/tvm/src/runtime/graph_executor/debug/graph_executor_debug.cc:108: Op #0 tvmgen_default_fused_nn_conv2d: 73516.1 us/iter\n",
      "[10:01:05] /home/max/tvm/src/runtime/graph_executor/debug/graph_executor_debug.cc:103: Iteration: 2\n",
      "[10:01:05] /home/max/tvm/src/runtime/graph_executor/debug/graph_executor_debug.cc:108: Op #0 tvmgen_default_fused_nn_conv2d: 73515.3 us/iter\n"
     ]
    },
    {
     "name": "stdout",
     "output_type": "stream",
     "text": [
      "15 (73.51530000000001, 116.739, 0.10284423828125)\n"
     ]
    },
    {
     "name": "stderr",
     "output_type": "stream",
     "text": [
      "[10:01:23] /home/max/tvm/src/runtime/graph_executor/debug/graph_executor_debug.cc:103: Iteration: 0\n",
      "[10:01:23] /home/max/tvm/src/runtime/graph_executor/debug/graph_executor_debug.cc:108: Op #0 tvmgen_default_fused_nn_conv2d: 1093.8 us/iter\n",
      "[10:01:24] /home/max/tvm/src/runtime/graph_executor/debug/graph_executor_debug.cc:103: Iteration: 1\n",
      "[10:01:24] /home/max/tvm/src/runtime/graph_executor/debug/graph_executor_debug.cc:108: Op #0 tvmgen_default_fused_nn_conv2d: 1104.82 us/iter\n",
      "[10:01:26] /home/max/tvm/src/runtime/graph_executor/debug/graph_executor_debug.cc:103: Iteration: 2\n",
      "[10:01:26] /home/max/tvm/src/runtime/graph_executor/debug/graph_executor_debug.cc:108: Op #0 tvmgen_default_fused_nn_conv2d: 1107.49 us/iter\n"
     ]
    },
    {
     "name": "stdout",
     "output_type": "stream",
     "text": [
      "16 (1.10749, 235.3585, 0.10382080078125)\n"
     ]
    },
    {
     "name": "stderr",
     "output_type": "stream",
     "text": [
      "[10:01:38] /home/max/tvm/src/runtime/graph_executor/debug/graph_executor_debug.cc:103: Iteration: 0\n",
      "[10:01:38] /home/max/tvm/src/runtime/graph_executor/debug/graph_executor_debug.cc:108: Op #0 tvmgen_default_fused_nn_conv2d: 2826.46 us/iter\n",
      "[10:01:40] /home/max/tvm/src/runtime/graph_executor/debug/graph_executor_debug.cc:103: Iteration: 1\n",
      "[10:01:40] /home/max/tvm/src/runtime/graph_executor/debug/graph_executor_debug.cc:108: Op #0 tvmgen_default_fused_nn_conv2d: 2826.88 us/iter\n",
      "[10:01:41] /home/max/tvm/src/runtime/graph_executor/debug/graph_executor_debug.cc:103: Iteration: 2\n",
      "[10:01:41] /home/max/tvm/src/runtime/graph_executor/debug/graph_executor_debug.cc:108: Op #0 tvmgen_default_fused_nn_conv2d: 2827.05 us/iter\n"
     ]
    },
    {
     "name": "stdout",
     "output_type": "stream",
     "text": [
      "17 (2.82705, 220.909, 0.10272216796875)\n"
     ]
    },
    {
     "name": "stderr",
     "output_type": "stream",
     "text": [
      "[10:01:53] /home/max/tvm/src/runtime/graph_executor/debug/graph_executor_debug.cc:103: Iteration: 0\n",
      "[10:01:53] /home/max/tvm/src/runtime/graph_executor/debug/graph_executor_debug.cc:108: Op #0 tvmgen_default_fused_nn_conv2d: 893.425 us/iter\n",
      "[10:01:55] /home/max/tvm/src/runtime/graph_executor/debug/graph_executor_debug.cc:103: Iteration: 1\n",
      "[10:01:55] /home/max/tvm/src/runtime/graph_executor/debug/graph_executor_debug.cc:108: Op #0 tvmgen_default_fused_nn_conv2d: 893.629 us/iter\n",
      "[10:01:56] /home/max/tvm/src/runtime/graph_executor/debug/graph_executor_debug.cc:103: Iteration: 2\n",
      "[10:01:56] /home/max/tvm/src/runtime/graph_executor/debug/graph_executor_debug.cc:108: Op #0 tvmgen_default_fused_nn_conv2d: 892.408 us/iter\n"
     ]
    },
    {
     "name": "stdout",
     "output_type": "stream",
     "text": [
      "18 (0.892408, 246.471, 0.10369873046875)\n"
     ]
    },
    {
     "name": "stderr",
     "output_type": "stream",
     "text": [
      "[10:02:09] /home/max/tvm/src/runtime/graph_executor/debug/graph_executor_debug.cc:103: Iteration: 0\n",
      "[10:02:09] /home/max/tvm/src/runtime/graph_executor/debug/graph_executor_debug.cc:108: Op #0 tvmgen_default_fused_nn_conv2d: 3420.7 us/iter\n",
      "[10:02:10] /home/max/tvm/src/runtime/graph_executor/debug/graph_executor_debug.cc:103: Iteration: 1\n",
      "[10:02:10] /home/max/tvm/src/runtime/graph_executor/debug/graph_executor_debug.cc:108: Op #0 tvmgen_default_fused_nn_conv2d: 3420.39 us/iter\n",
      "[10:02:12] /home/max/tvm/src/runtime/graph_executor/debug/graph_executor_debug.cc:103: Iteration: 2\n",
      "[10:02:12] /home/max/tvm/src/runtime/graph_executor/debug/graph_executor_debug.cc:108: Op #0 tvmgen_default_fused_nn_conv2d: 3419.65 us/iter\n"
     ]
    },
    {
     "name": "stdout",
     "output_type": "stream",
     "text": [
      "19 (3.4196500000000003, 210.302, 0.10260009765625)\n"
     ]
    },
    {
     "name": "stderr",
     "output_type": "stream",
     "text": [
      "[10:02:24] /home/max/tvm/src/runtime/graph_executor/debug/graph_executor_debug.cc:103: Iteration: 0\n",
      "[10:02:24] /home/max/tvm/src/runtime/graph_executor/debug/graph_executor_debug.cc:108: Op #0 tvmgen_default_fused_nn_conv2d: 8327.13 us/iter\n",
      "[10:02:26] /home/max/tvm/src/runtime/graph_executor/debug/graph_executor_debug.cc:103: Iteration: 1\n",
      "[10:02:26] /home/max/tvm/src/runtime/graph_executor/debug/graph_executor_debug.cc:108: Op #0 tvmgen_default_fused_nn_conv2d: 8317.15 us/iter\n",
      "[10:02:27] /home/max/tvm/src/runtime/graph_executor/debug/graph_executor_debug.cc:103: Iteration: 2\n",
      "[10:02:27] /home/max/tvm/src/runtime/graph_executor/debug/graph_executor_debug.cc:108: Op #0 tvmgen_default_fused_nn_conv2d: 8315.85 us/iter\n"
     ]
    },
    {
     "name": "stdout",
     "output_type": "stream",
     "text": [
      "20 (8.31585, 168.38549999999998, 0.10357666015625)\n"
     ]
    },
    {
     "name": "stderr",
     "output_type": "stream",
     "text": [
      "[10:02:40] /home/max/tvm/src/runtime/graph_executor/debug/graph_executor_debug.cc:103: Iteration: 0\n",
      "[10:02:40] /home/max/tvm/src/runtime/graph_executor/debug/graph_executor_debug.cc:108: Op #0 tvmgen_default_fused_nn_conv2d: 14869.1 us/iter\n",
      "[10:02:42] /home/max/tvm/src/runtime/graph_executor/debug/graph_executor_debug.cc:103: Iteration: 1\n",
      "[10:02:42] /home/max/tvm/src/runtime/graph_executor/debug/graph_executor_debug.cc:108: Op #0 tvmgen_default_fused_nn_conv2d: 14865 us/iter\n",
      "[10:02:43] /home/max/tvm/src/runtime/graph_executor/debug/graph_executor_debug.cc:103: Iteration: 2\n",
      "[10:02:43] /home/max/tvm/src/runtime/graph_executor/debug/graph_executor_debug.cc:108: Op #0 tvmgen_default_fused_nn_conv2d: 14868.2 us/iter\n"
     ]
    },
    {
     "name": "stdout",
     "output_type": "stream",
     "text": [
      "21 (14.8682, 243.5815, 0.10357666015625)\n"
     ]
    },
    {
     "name": "stderr",
     "output_type": "stream",
     "text": [
      "[10:02:57] /home/max/tvm/src/runtime/graph_executor/debug/graph_executor_debug.cc:103: Iteration: 0\n",
      "[10:02:57] /home/max/tvm/src/runtime/graph_executor/debug/graph_executor_debug.cc:108: Op #0 tvmgen_default_fused_nn_conv2d: 1515.05 us/iter\n",
      "[10:02:58] /home/max/tvm/src/runtime/graph_executor/debug/graph_executor_debug.cc:103: Iteration: 1\n",
      "[10:02:58] /home/max/tvm/src/runtime/graph_executor/debug/graph_executor_debug.cc:108: Op #0 tvmgen_default_fused_nn_conv2d: 1514.16 us/iter\n",
      "[10:03:00] /home/max/tvm/src/runtime/graph_executor/debug/graph_executor_debug.cc:103: Iteration: 2\n",
      "[10:03:00] /home/max/tvm/src/runtime/graph_executor/debug/graph_executor_debug.cc:108: Op #0 tvmgen_default_fused_nn_conv2d: 1515.14 us/iter\n"
     ]
    },
    {
     "name": "stdout",
     "output_type": "stream",
     "text": [
      "22 (1.5151400000000002, 247.1945, 0.10247802734375)\n"
     ]
    },
    {
     "name": "stderr",
     "output_type": "stream",
     "text": [
      "[10:03:12] /home/max/tvm/src/runtime/graph_executor/debug/graph_executor_debug.cc:103: Iteration: 0\n",
      "[10:03:12] /home/max/tvm/src/runtime/graph_executor/debug/graph_executor_debug.cc:108: Op #0 tvmgen_default_fused_nn_conv2d: 7484.81 us/iter\n",
      "[10:03:14] /home/max/tvm/src/runtime/graph_executor/debug/graph_executor_debug.cc:103: Iteration: 1\n",
      "[10:03:14] /home/max/tvm/src/runtime/graph_executor/debug/graph_executor_debug.cc:108: Op #0 tvmgen_default_fused_nn_conv2d: 7487.81 us/iter\n",
      "[10:03:15] /home/max/tvm/src/runtime/graph_executor/debug/graph_executor_debug.cc:103: Iteration: 2\n",
      "[10:03:15] /home/max/tvm/src/runtime/graph_executor/debug/graph_executor_debug.cc:108: Op #0 tvmgen_default_fused_nn_conv2d: 7483.69 us/iter\n"
     ]
    },
    {
     "name": "stdout",
     "output_type": "stream",
     "text": [
      "23 (7.48369, 217.303, 0.10247802734375)\n"
     ]
    },
    {
     "name": "stderr",
     "output_type": "stream",
     "text": [
      "[10:03:28] /home/max/tvm/src/runtime/graph_executor/debug/graph_executor_debug.cc:103: Iteration: 0\n",
      "[10:03:28] /home/max/tvm/src/runtime/graph_executor/debug/graph_executor_debug.cc:108: Op #0 tvmgen_default_fused_nn_conv2d: 12410.3 us/iter\n",
      "[10:03:29] /home/max/tvm/src/runtime/graph_executor/debug/graph_executor_debug.cc:103: Iteration: 1\n",
      "[10:03:29] /home/max/tvm/src/runtime/graph_executor/debug/graph_executor_debug.cc:108: Op #0 tvmgen_default_fused_nn_conv2d: 12406.3 us/iter\n",
      "[10:03:31] /home/max/tvm/src/runtime/graph_executor/debug/graph_executor_debug.cc:103: Iteration: 2\n",
      "[10:03:31] /home/max/tvm/src/runtime/graph_executor/debug/graph_executor_debug.cc:108: Op #0 tvmgen_default_fused_nn_conv2d: 12402.3 us/iter\n"
     ]
    },
    {
     "name": "stdout",
     "output_type": "stream",
     "text": [
      "24 (12.4023, 241.033, 0.10333251953125)\n"
     ]
    },
    {
     "name": "stderr",
     "output_type": "stream",
     "text": [
      "[10:03:44] /home/max/tvm/src/runtime/graph_executor/debug/graph_executor_debug.cc:103: Iteration: 0\n",
      "[10:03:44] /home/max/tvm/src/runtime/graph_executor/debug/graph_executor_debug.cc:108: Op #0 tvmgen_default_fused_nn_conv2d: 22000.7 us/iter\n",
      "[10:03:46] /home/max/tvm/src/runtime/graph_executor/debug/graph_executor_debug.cc:103: Iteration: 1\n",
      "[10:03:46] /home/max/tvm/src/runtime/graph_executor/debug/graph_executor_debug.cc:108: Op #0 tvmgen_default_fused_nn_conv2d: 21974.1 us/iter\n",
      "[10:03:47] /home/max/tvm/src/runtime/graph_executor/debug/graph_executor_debug.cc:103: Iteration: 2\n",
      "[10:03:47] /home/max/tvm/src/runtime/graph_executor/debug/graph_executor_debug.cc:108: Op #0 tvmgen_default_fused_nn_conv2d: 21902.5 us/iter\n"
     ]
    },
    {
     "name": "stdout",
     "output_type": "stream",
     "text": [
      "25 (21.9025, 189.496, 0.10333251953125)\n"
     ]
    },
    {
     "name": "stderr",
     "output_type": "stream",
     "text": [
      "[10:04:02] /home/max/tvm/src/runtime/graph_executor/debug/graph_executor_debug.cc:103: Iteration: 0\n",
      "[10:04:02] /home/max/tvm/src/runtime/graph_executor/debug/graph_executor_debug.cc:108: Op #0 tvmgen_default_fused_nn_conv2d: 1778.69 us/iter\n",
      "[10:04:03] /home/max/tvm/src/runtime/graph_executor/debug/graph_executor_debug.cc:103: Iteration: 1\n",
      "[10:04:03] /home/max/tvm/src/runtime/graph_executor/debug/graph_executor_debug.cc:108: Op #0 tvmgen_default_fused_nn_conv2d: 1778.48 us/iter\n",
      "[10:04:05] /home/max/tvm/src/runtime/graph_executor/debug/graph_executor_debug.cc:103: Iteration: 2\n",
      "[10:04:05] /home/max/tvm/src/runtime/graph_executor/debug/graph_executor_debug.cc:108: Op #0 tvmgen_default_fused_nn_conv2d: 1778.09 us/iter\n"
     ]
    },
    {
     "name": "stdout",
     "output_type": "stream",
     "text": [
      "26 (1.77809, 237.538, 0.10333251953125)\n"
     ]
    },
    {
     "name": "stderr",
     "output_type": "stream",
     "text": [
      "[10:04:18] /home/max/tvm/src/runtime/graph_executor/debug/graph_executor_debug.cc:103: Iteration: 0\n",
      "[10:04:18] /home/max/tvm/src/runtime/graph_executor/debug/graph_executor_debug.cc:108: Op #0 tvmgen_default_fused_nn_conv2d: 198593 us/iter\n",
      "[10:04:20] /home/max/tvm/src/runtime/graph_executor/debug/graph_executor_debug.cc:103: Iteration: 1\n",
      "[10:04:20] /home/max/tvm/src/runtime/graph_executor/debug/graph_executor_debug.cc:108: Op #0 tvmgen_default_fused_nn_conv2d: 198576 us/iter\n",
      "[10:04:22] /home/max/tvm/src/runtime/graph_executor/debug/graph_executor_debug.cc:103: Iteration: 2\n",
      "[10:04:22] /home/max/tvm/src/runtime/graph_executor/debug/graph_executor_debug.cc:108: Op #0 tvmgen_default_fused_nn_conv2d: 198497 us/iter\n"
     ]
    },
    {
     "name": "stdout",
     "output_type": "stream",
     "text": [
      "27 (198.497, 117.876, 0.10321044921875)\n"
     ]
    },
    {
     "name": "stderr",
     "output_type": "stream",
     "text": [
      "[10:04:51] /home/max/tvm/src/runtime/graph_executor/debug/graph_executor_debug.cc:103: Iteration: 0\n",
      "[10:04:51] /home/max/tvm/src/runtime/graph_executor/debug/graph_executor_debug.cc:108: Op #0 tvmgen_default_fused_nn_conv2d: 3218.33 us/iter\n",
      "[10:04:53] /home/max/tvm/src/runtime/graph_executor/debug/graph_executor_debug.cc:103: Iteration: 1\n",
      "[10:04:53] /home/max/tvm/src/runtime/graph_executor/debug/graph_executor_debug.cc:108: Op #0 tvmgen_default_fused_nn_conv2d: 3218.27 us/iter\n",
      "[10:04:54] /home/max/tvm/src/runtime/graph_executor/debug/graph_executor_debug.cc:103: Iteration: 2\n",
      "[10:04:54] /home/max/tvm/src/runtime/graph_executor/debug/graph_executor_debug.cc:108: Op #0 tvmgen_default_fused_nn_conv2d: 3217.94 us/iter\n"
     ]
    },
    {
     "name": "stdout",
     "output_type": "stream",
     "text": [
      "28 (3.21794, 242.841, 0.10321044921875)\n"
     ]
    },
    {
     "name": "stderr",
     "output_type": "stream",
     "text": [
      "[10:05:05] /home/max/tvm/src/runtime/graph_executor/debug/graph_executor_debug.cc:103: Iteration: 0\n",
      "[10:05:05] /home/max/tvm/src/runtime/graph_executor/debug/graph_executor_debug.cc:108: Op #0 tvmgen_default_fused_nn_conv2d: 105125 us/iter\n",
      "[10:05:06] /home/max/tvm/src/runtime/graph_executor/debug/graph_executor_debug.cc:103: Iteration: 1\n",
      "[10:05:06] /home/max/tvm/src/runtime/graph_executor/debug/graph_executor_debug.cc:108: Op #0 tvmgen_default_fused_nn_conv2d: 105580 us/iter\n",
      "[10:05:07] /home/max/tvm/src/runtime/graph_executor/debug/graph_executor_debug.cc:103: Iteration: 2\n",
      "[10:05:07] /home/max/tvm/src/runtime/graph_executor/debug/graph_executor_debug.cc:108: Op #0 tvmgen_default_fused_nn_conv2d: 104643 us/iter\n"
     ]
    },
    {
     "name": "stdout",
     "output_type": "stream",
     "text": [
      "29 (104.643, 184.382, 0.10308837890625)\n"
     ]
    }
   ],
   "source": [
    "measurements = {}\n",
    "a_range = [3]\n",
    "b_range = range(1, 30, 1)\n",
    "for n in a_range:\n",
    "    for i in b_range:\n",
    "        state = i\n",
    "        config[\"c\"] = n\n",
    "        config[\"kernel\"] = i\n",
    "        \n",
    "        #print(config)\n",
    "        # prepare input tensors\n",
    "        repeat = 1024\n",
    "        required = int(config[\"n\"]) * int(config[\"c\"]) * int(config[\"h\"]) * int(config[\"w\"])\n",
    "        '''\n",
    "        inp_shape = (\n",
    "            int(config[\"h\"]),\n",
    "            int(config[\"w\"]),\n",
    "            int(config[\"c\"]),\n",
    "            int(config[\"n\"])\n",
    "        )\n",
    "        '''\n",
    "        inp_shape = (\n",
    "            int(config[\"n\"]),\n",
    "            int(config[\"c\"]),\n",
    "            int(config[\"h\"]),\n",
    "            int(config[\"w\"]),\n",
    "        )\n",
    "        rand_data = np.random.rand(int(np.ceil(required/repeat)))\n",
    "        inp_data = np.repeat(rand_data, repeat)[:required].reshape(inp_shape).astype(\"float32\")\n",
    "        #inp_data = np.random.rand(np.prod(inp_shape)).reshape(inp_shape).astype(\"float32\")\n",
    "\n",
    "        '''\n",
    "        weight_shape = (\n",
    "            int(config[\"kernel\"]),\n",
    "            int(config[\"kernel\"]),\n",
    "            int(config[\"c\"] / config[\"grps\"]),\n",
    "            int(config[\"channels\"]),\n",
    "        )\n",
    "        '''\n",
    "        weight_shape = (\n",
    "            int(config[\"channels\"]),\n",
    "            int(config[\"c\"] / config[\"grps\"]),\n",
    "            int(config[\"kernel\"]),\n",
    "            int(config[\"kernel\"])\n",
    "        )\n",
    "        required = int(config[\"channels\"]) * int(config[\"c\"] / config[\"grps\"]) * int(config[\"kernel\"]) * int(config[\"kernel\"])\n",
    "        rand_data = np.random.rand(int(np.ceil(required/repeat)))\n",
    "        weight_data = np.repeat(rand_data, repeat)[:required].reshape(weight_shape).astype(\"float32\")\n",
    "        #weight_data = np.random.rand(np.prod(weight_shape)).reshape(weight_shape).astype(\"float32\")\n",
    "        x = tvm.relay.var(\"data\", tvm.relay.TensorType(inp_shape), dtype=\"float32\")\n",
    "        y = tvm.relay.Constant(tvm.nd.array(weight_data))\n",
    "\n",
    "        # compile with TVM\n",
    "        expr = conv2d(\n",
    "            data = x,\n",
    "            weight= y,\n",
    "            strides=int(config[\"strides\"]),\n",
    "            padding=int(config[\"pad\"]),\n",
    "            dilation=int(config[\"dilation\"]),\n",
    "            groups=int(config[\"grps\"]),\n",
    "            channels=int(config[\"channels\"]),\n",
    "            kernel_size=int(config[\"kernel\"]),\n",
    "            data_layout=\"NCHW\",\n",
    "            kernel_layout=\"OIHW\",\n",
    "            #data_layout=\"NHWC\",\n",
    "            #kernel_layout=\"HWIO\",\n",
    "        )\n",
    "        \n",
    "        mod = tvm.ir.IRModule.from_expr(expr)\n",
    "        params = {}\n",
    "        with tvm.transform.PassContext(opt_level=3):\n",
    "            compiled_graph_lib = tvm.relay.build_module.build(mod, target_class, params=params)\n",
    "\n",
    "        # measuring the execution time\n",
    "        from tvm.contrib.debugger import debug_executor as graph_runtime\n",
    "\n",
    "        ## building runtime\n",
    "        debug_g_mod = graph_runtime.GraphModuleDebug(\n",
    "            compiled_graph_lib[\"debug_create\"](\"default\", dev),\n",
    "            [dev],\n",
    "            compiled_graph_lib.get_graph_json(),\n",
    "            \".\"\n",
    "        )\n",
    "        \n",
    "        #### NEW FUNCTION TO GET THE LAYER RUNTIME\n",
    "        t_start  = time.monotonic()\n",
    "        times = debug_g_mod.run_individual(10, 3, 1000)\n",
    "        t_end = time.monotonic()\n",
    "        \n",
    "        try:\n",
    "            for idx, node in enumerate(debug_g_mod.debug_datum._nodes_list):\n",
    "                if layer_name in node[\"op\"]:\n",
    "                    layer_time = float(times[idx])*1000\n",
    "                    actual_layer_name = node[\"op\"]\n",
    "\n",
    "            #print(layer_time, \"ms\")\n",
    "\n",
    "            runs = int(max(1, np.ceil(time_min_res / (layer_time/1000))))\n",
    "\n",
    "            # determine the noise\n",
    "            iterations = 20\n",
    "            powers = []\n",
    "            gpu_utils = []\n",
    "            mem_utils = []\n",
    "            gpu_clocks = []\n",
    "            sm_clocks = []\n",
    "            mem_clocks = []\n",
    "            alloc_memory = []\n",
    "            profile_times = []\n",
    "\n",
    "            # burn in \n",
    "            t_burn_in = 5\n",
    "            t_start = time.monotonic()\n",
    "            t_end = t_start + t_burn_in\n",
    "            while time.monotonic() < t_end:\n",
    "                # run debug runtime without profiling as burn in\n",
    "                with suppress_stdout():\n",
    "                    test_data = debug_g_mod.profile(collectors=[], data=tvm.nd.array(inp_data.astype(\"float32\")), runs=runs)\n",
    "\n",
    "            p_start = time.monotonic()\n",
    "            for r in range(0, iterations):        \n",
    "                # reload the Metric Collector due to issues with the PAPI backend\n",
    "                data_collector = tvm.runtime.profiling.PAPIMetricCollector({dev: metrics}, component=\"nvml\")    \n",
    "\n",
    "                # run debug runtime with time measurements only\n",
    "                #with suppress_stdout():\n",
    "                test_data = debug_g_mod.profile(collectors=[data_collector], data=tvm.nd.array(inp_data.astype(\"float32\")), runs=runs)\n",
    "                pstate = nv.nvmlDeviceGetPowerState(handle)\n",
    "                #print(\"\\r\",(r+1),\"PState:\", pstate, end=\"\")\n",
    "\n",
    "                # extract measurement of current run\n",
    "                powers.append(test_data.calls[0][metrics[0]].value)\n",
    "                gpu_utils.append(test_data.calls[0][metrics[1]].value)\n",
    "                mem_utils.append(test_data.calls[0][metrics[2]].value)\n",
    "                gpu_clocks.append(test_data.calls[0][metrics[3]].value)\n",
    "                sm_clocks.append(test_data.calls[0][metrics[4]].value)\n",
    "                mem_clocks.append(test_data.calls[0][metrics[5]].value)\n",
    "                alloc_memory.append(test_data.calls[0][metrics[6]].value)\n",
    "                profile_times.append(test_data.calls[0][\"Duration (us)\"].microseconds/1000000/runs) # in seconds\n",
    "                #time.sleep(1)\n",
    "\n",
    "            p_delta = time.monotonic() - p_start\n",
    "            avg_power = np.mean(powers)/1000\n",
    "            max_power = np.max(powers)/1000\n",
    "            min_power = np.min(powers)/1000\n",
    "            std_power = np.std(powers)/1000\n",
    "            #calculate Z-Score\n",
    "            z_scores = ((np.array(powers)/1000) - avg_power)/std_power\n",
    "            cleaned_powers = []\n",
    "            threshold = 0.25\n",
    "            while len(cleaned_powers) < 3:\n",
    "                cleaned_powers = []\n",
    "                threshold += 0.05\n",
    "                for idx, score in enumerate(z_scores):\n",
    "                    if abs(score) < threshold:\n",
    "                        cleaned_powers.append(powers[idx]/1000)\n",
    "\n",
    "            layer_power = np.median(cleaned_powers)\n",
    "            layer_memory = np.median(alloc_memory)/(1024**3)\n",
    "\n",
    "            #print()\n",
    "            measurements[state] = (layer_time, layer_power, layer_memory)\n",
    "            print(state, (layer_time, layer_power, layer_memory))\n",
    "            #print()\n",
    "        except:\n",
    "            print(\"failed measurement\")\n",
    "            #measurements[state] = (-1, -1, -1)"
   ]
  },
  {
   "cell_type": "code",
   "execution_count": 8,
   "metadata": {},
   "outputs": [
    {
     "name": "stdout",
     "output_type": "stream",
     "text": [
      "{1: (0.046291900000000004, 177.265, 0.10357666015625), 2: (0.0402934, 185.077, 0.10443115234375), 3: (0.599143, 181.259, 0.10345458984375), 4: (0.157107, 198.5815, 0.10443115234375), 5: (0.30495799999999995, 194.036, 0.10333251953125), 6: (0.124892, 247.178, 0.10430908203125), 7: (1.0684900000000002, 178.356, 0.10321044921875), 8: (1.44431, 164.648, 0.10418701171875), 9: (1.91807, 241.997, 0.10308837890625), 10: (0.28137, 238.6515, 0.10406494140625), 11: (2.43156, 209.975, 0.10308837890625), 12: (3.36489, 240.476, 0.10394287109375), 13: (5.84961, 188.94, 0.10296630859375), 14: (1.39601, 214.759, 0.10382080078125), 15: (73.51530000000001, 116.739, 0.10284423828125), 16: (1.10749, 235.3585, 0.10382080078125), 17: (2.82705, 220.909, 0.10272216796875), 18: (0.892408, 246.471, 0.10369873046875), 19: (3.4196500000000003, 210.302, 0.10260009765625), 20: (8.31585, 168.38549999999998, 0.10357666015625), 21: (14.8682, 243.5815, 0.10357666015625), 22: (1.5151400000000002, 247.1945, 0.10247802734375), 23: (7.48369, 217.303, 0.10247802734375), 24: (12.4023, 241.033, 0.10333251953125), 25: (21.9025, 189.496, 0.10333251953125), 26: (1.77809, 237.538, 0.10333251953125), 27: (198.497, 117.876, 0.10321044921875), 28: (3.21794, 242.841, 0.10321044921875), 29: (104.643, 184.382, 0.10308837890625)}\n"
     ]
    }
   ],
   "source": [
    "print(measurements)"
   ]
  },
  {
   "cell_type": "code",
   "execution_count": 9,
   "metadata": {},
   "outputs": [
    {
     "data": {
      "image/png": "[encoded data removed]",
      "text/plain": [
       "<Figure size 1440x720 with 3 Axes>"
      ]
     },
     "metadata": {
      "needs_background": "light"
     },
     "output_type": "display_data"
    }
   ],
   "source": [
    "plt.rcParams[\"figure.figsize\"] = (max(20, len(measurements.keys())/2.5), 10)\n",
    "\n",
    "fig, ax = plt.subplots()\n",
    "plt.subplot(3, 1, 1)\n",
    "plt.plot(measurements.keys(), np.array(list(measurements.values()))[:,0])\n",
    "plt.title(\"Runtime in ms\")\n",
    "#plt.xlabel(\"Input Height\")\n",
    "plt.xticks(list(measurements.keys()))\n",
    "plt.ylabel(\"Execution Time in ms\")\n",
    "\n",
    "plt.subplot(3, 1, 2)\n",
    "plt.plot(measurements.keys(), np.array(list(measurements.values()))[:,1])\n",
    "plt.title(\"Power in W\")\n",
    "#plt.xlabel(\"Input Height\")\n",
    "plt.xticks(list(measurements.keys()))\n",
    "plt.ylabel(\"Power Consumption in W\")\n",
    "\n",
    "plt.subplot(3, 1, 3)\n",
    "plt.plot(measurements.keys(), np.array(list(measurements.values()))[:,2])\n",
    "plt.title(\"Memory in GiB\")\n",
    "#plt.xlabel(\"Input Height\")\n",
    "plt.xticks(list(measurements.keys()))\n",
    "plt.ylabel(\"Memory Allocation in GiB\")\n",
    "plt.show()"
   ]
  },
  {
   "cell_type": "code",
   "execution_count": 10,
   "metadata": {},
   "outputs": [
    {
     "name": "stdout",
     "output_type": "stream",
     "text": [
      "0,046291900000000004\n",
      "0,0402934\n",
      "0,599143\n",
      "0,157107\n",
      "0,30495799999999995\n",
      "0,124892\n",
      "1,0684900000000002\n",
      "1,44431\n",
      "1,91807\n",
      "0,28137\n",
      "2,43156\n",
      "3,36489\n",
      "5,84961\n",
      "1,39601\n",
      "73,51530000000001\n",
      "1,10749\n",
      "2,82705\n",
      "0,892408\n",
      "3,4196500000000003\n",
      "8,31585\n",
      "14,8682\n",
      "1,5151400000000002\n",
      "7,48369\n",
      "12,4023\n",
      "21,9025\n",
      "1,77809\n",
      "198,497\n",
      "3,21794\n",
      "104,643\n"
     ]
    }
   ],
   "source": [
    "for key, value in measurements.items():\n",
    "    #print(key)\n",
    "    print(str(value[0]).replace(\".\",\",\"))"
   ]
  },
  {
   "cell_type": "code",
   "execution_count": null,
   "metadata": {},
   "outputs": [],
   "source": []
  }
 ],
 "metadata": {
  "kernelspec": {
   "display_name": "Python 3 (ipykernel)",
   "language": "python",
   "name": "python3"
  },
  "language_info": {
   "codemirror_mode": {
    "name": "ipython",
    "version": 3
   },
   "file_extension": ".py",
   "mimetype": "text/x-python",
   "name": "python",
   "nbconvert_exporter": "python",
   "pygments_lexer": "ipython3",
   "version": "3.8.10"
  }
 },
 "nbformat": 4,
 "nbformat_minor": 4
}
